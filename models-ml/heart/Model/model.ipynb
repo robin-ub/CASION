{
 "cells": [
  {
   "cell_type": "code",
   "execution_count": 1,
   "id": "a686eaa3",
   "metadata": {},
   "outputs": [],
   "source": [
    "import numpy as np # linear algebra\n",
    "import pandas as pd # data processing, CSV file I/O (e.g. pd.read_csv)"
   ]
  },
  {
   "cell_type": "code",
   "execution_count": 2,
   "id": "4a6084aa",
   "metadata": {
    "execution": {
     "iopub.execute_input": "2024-06-12T14:30:24.774420Z",
     "iopub.status.busy": "2024-06-12T14:30:24.773181Z",
     "iopub.status.idle": "2024-06-12T14:30:24.797810Z",
     "shell.execute_reply": "2024-06-12T14:30:24.796382Z"
    },
    "papermill": {
     "duration": 0.043574,
     "end_time": "2024-06-12T14:30:24.800771",
     "exception": false,
     "start_time": "2024-06-12T14:30:24.757197",
     "status": "completed"
    },
    "tags": []
   },
   "outputs": [],
   "source": [
    "df = pd.read_csv(r'C:\\Users\\Lenovo\\Documents\\heartless\\heart\\ucl\\heart\\heart.csv')"
   ]
  },
  {
   "cell_type": "code",
   "execution_count": 3,
   "id": "b5f473cf",
   "metadata": {
    "execution": {
     "iopub.execute_input": "2024-06-12T14:30:24.832180Z",
     "iopub.status.busy": "2024-06-12T14:30:24.831776Z",
     "iopub.status.idle": "2024-06-12T14:30:24.862731Z",
     "shell.execute_reply": "2024-06-12T14:30:24.861561Z"
    },
    "papermill": {
     "duration": 0.0497,
     "end_time": "2024-06-12T14:30:24.865485",
     "exception": false,
     "start_time": "2024-06-12T14:30:24.815785",
     "status": "completed"
    },
    "tags": []
   },
   "outputs": [
    {
     "data": {
      "text/html": [
       "<div>\n",
       "<style scoped>\n",
       "    .dataframe tbody tr th:only-of-type {\n",
       "        vertical-align: middle;\n",
       "    }\n",
       "\n",
       "    .dataframe tbody tr th {\n",
       "        vertical-align: top;\n",
       "    }\n",
       "\n",
       "    .dataframe thead th {\n",
       "        text-align: right;\n",
       "    }\n",
       "</style>\n",
       "<table border=\"1\" class=\"dataframe\">\n",
       "  <thead>\n",
       "    <tr style=\"text-align: right;\">\n",
       "      <th></th>\n",
       "      <th>age</th>\n",
       "      <th>sex</th>\n",
       "      <th>cp</th>\n",
       "      <th>trestbps</th>\n",
       "      <th>chol</th>\n",
       "      <th>fbs</th>\n",
       "      <th>restecg</th>\n",
       "      <th>thalach</th>\n",
       "      <th>exang</th>\n",
       "      <th>oldpeak</th>\n",
       "      <th>slope</th>\n",
       "      <th>ca</th>\n",
       "      <th>thal</th>\n",
       "      <th>target</th>\n",
       "    </tr>\n",
       "  </thead>\n",
       "  <tbody>\n",
       "    <tr>\n",
       "      <th>0</th>\n",
       "      <td>63</td>\n",
       "      <td>1</td>\n",
       "      <td>3</td>\n",
       "      <td>145</td>\n",
       "      <td>233</td>\n",
       "      <td>1</td>\n",
       "      <td>0</td>\n",
       "      <td>150</td>\n",
       "      <td>0</td>\n",
       "      <td>2.3</td>\n",
       "      <td>0</td>\n",
       "      <td>0</td>\n",
       "      <td>1</td>\n",
       "      <td>1</td>\n",
       "    </tr>\n",
       "    <tr>\n",
       "      <th>1</th>\n",
       "      <td>37</td>\n",
       "      <td>1</td>\n",
       "      <td>2</td>\n",
       "      <td>130</td>\n",
       "      <td>250</td>\n",
       "      <td>0</td>\n",
       "      <td>1</td>\n",
       "      <td>187</td>\n",
       "      <td>0</td>\n",
       "      <td>3.5</td>\n",
       "      <td>0</td>\n",
       "      <td>0</td>\n",
       "      <td>2</td>\n",
       "      <td>1</td>\n",
       "    </tr>\n",
       "    <tr>\n",
       "      <th>2</th>\n",
       "      <td>41</td>\n",
       "      <td>0</td>\n",
       "      <td>1</td>\n",
       "      <td>130</td>\n",
       "      <td>204</td>\n",
       "      <td>0</td>\n",
       "      <td>0</td>\n",
       "      <td>172</td>\n",
       "      <td>0</td>\n",
       "      <td>1.4</td>\n",
       "      <td>2</td>\n",
       "      <td>0</td>\n",
       "      <td>2</td>\n",
       "      <td>1</td>\n",
       "    </tr>\n",
       "    <tr>\n",
       "      <th>3</th>\n",
       "      <td>56</td>\n",
       "      <td>1</td>\n",
       "      <td>1</td>\n",
       "      <td>120</td>\n",
       "      <td>236</td>\n",
       "      <td>0</td>\n",
       "      <td>1</td>\n",
       "      <td>178</td>\n",
       "      <td>0</td>\n",
       "      <td>0.8</td>\n",
       "      <td>2</td>\n",
       "      <td>0</td>\n",
       "      <td>2</td>\n",
       "      <td>1</td>\n",
       "    </tr>\n",
       "    <tr>\n",
       "      <th>4</th>\n",
       "      <td>57</td>\n",
       "      <td>0</td>\n",
       "      <td>0</td>\n",
       "      <td>120</td>\n",
       "      <td>354</td>\n",
       "      <td>0</td>\n",
       "      <td>1</td>\n",
       "      <td>163</td>\n",
       "      <td>1</td>\n",
       "      <td>0.6</td>\n",
       "      <td>2</td>\n",
       "      <td>0</td>\n",
       "      <td>2</td>\n",
       "      <td>1</td>\n",
       "    </tr>\n",
       "  </tbody>\n",
       "</table>\n",
       "</div>"
      ],
      "text/plain": [
       "   age  sex  cp  trestbps  chol  fbs  restecg  thalach  exang  oldpeak  slope  \\\n",
       "0   63    1   3       145   233    1        0      150      0      2.3      0   \n",
       "1   37    1   2       130   250    0        1      187      0      3.5      0   \n",
       "2   41    0   1       130   204    0        0      172      0      1.4      2   \n",
       "3   56    1   1       120   236    0        1      178      0      0.8      2   \n",
       "4   57    0   0       120   354    0        1      163      1      0.6      2   \n",
       "\n",
       "   ca  thal  target  \n",
       "0   0     1       1  \n",
       "1   0     2       1  \n",
       "2   0     2       1  \n",
       "3   0     2       1  \n",
       "4   0     2       1  "
      ]
     },
     "execution_count": 3,
     "metadata": {},
     "output_type": "execute_result"
    }
   ],
   "source": [
    "df.head()"
   ]
  },
  {
   "cell_type": "code",
   "execution_count": 4,
   "id": "91905fa4",
   "metadata": {
    "execution": {
     "iopub.execute_input": "2024-06-12T14:30:24.897251Z",
     "iopub.status.busy": "2024-06-12T14:30:24.896830Z",
     "iopub.status.idle": "2024-06-12T14:30:24.903710Z",
     "shell.execute_reply": "2024-06-12T14:30:24.902689Z"
    },
    "papermill": {
     "duration": 0.025667,
     "end_time": "2024-06-12T14:30:24.906024",
     "exception": false,
     "start_time": "2024-06-12T14:30:24.880357",
     "status": "completed"
    },
    "tags": []
   },
   "outputs": [
    {
     "data": {
      "text/plain": [
       "(303, 14)"
      ]
     },
     "execution_count": 4,
     "metadata": {},
     "output_type": "execute_result"
    }
   ],
   "source": [
    "df.shape"
   ]
  },
  {
   "cell_type": "code",
   "execution_count": 5,
   "id": "03d19ecf",
   "metadata": {
    "execution": {
     "iopub.execute_input": "2024-06-12T14:30:24.939125Z",
     "iopub.status.busy": "2024-06-12T14:30:24.938723Z",
     "iopub.status.idle": "2024-06-12T14:30:24.955023Z",
     "shell.execute_reply": "2024-06-12T14:30:24.953955Z"
    },
    "papermill": {
     "duration": 0.036348,
     "end_time": "2024-06-12T14:30:24.957664",
     "exception": false,
     "start_time": "2024-06-12T14:30:24.921316",
     "status": "completed"
    },
    "tags": []
   },
   "outputs": [
    {
     "data": {
      "text/plain": [
       "1"
      ]
     },
     "execution_count": 5,
     "metadata": {},
     "output_type": "execute_result"
    }
   ],
   "source": [
    "df.duplicated().sum()"
   ]
  },
  {
   "cell_type": "code",
   "execution_count": 6,
   "id": "399d4703",
   "metadata": {
    "execution": {
     "iopub.execute_input": "2024-06-12T14:30:24.992292Z",
     "iopub.status.busy": "2024-06-12T14:30:24.991083Z",
     "iopub.status.idle": "2024-06-12T14:30:25.003124Z",
     "shell.execute_reply": "2024-06-12T14:30:25.001799Z"
    },
    "papermill": {
     "duration": 0.033506,
     "end_time": "2024-06-12T14:30:25.006288",
     "exception": false,
     "start_time": "2024-06-12T14:30:24.972782",
     "status": "completed"
    },
    "tags": []
   },
   "outputs": [
    {
     "data": {
      "text/plain": [
       "age         0\n",
       "sex         0\n",
       "cp          0\n",
       "trestbps    0\n",
       "chol        0\n",
       "fbs         0\n",
       "restecg     0\n",
       "thalach     0\n",
       "exang       0\n",
       "oldpeak     0\n",
       "slope       0\n",
       "ca          0\n",
       "thal        0\n",
       "target      0\n",
       "dtype: int64"
      ]
     },
     "execution_count": 6,
     "metadata": {},
     "output_type": "execute_result"
    }
   ],
   "source": [
    "df.isnull().sum()"
   ]
  },
  {
   "cell_type": "code",
   "execution_count": 7,
   "id": "157b1aa4",
   "metadata": {
    "execution": {
     "iopub.execute_input": "2024-06-12T14:30:25.040045Z",
     "iopub.status.busy": "2024-06-12T14:30:25.039662Z",
     "iopub.status.idle": "2024-06-12T14:30:25.060536Z",
     "shell.execute_reply": "2024-06-12T14:30:25.058911Z"
    },
    "papermill": {
     "duration": 0.040746,
     "end_time": "2024-06-12T14:30:25.063179",
     "exception": false,
     "start_time": "2024-06-12T14:30:25.022433",
     "status": "completed"
    },
    "tags": []
   },
   "outputs": [
    {
     "name": "stdout",
     "output_type": "stream",
     "text": [
      "<class 'pandas.core.frame.DataFrame'>\n",
      "RangeIndex: 303 entries, 0 to 302\n",
      "Data columns (total 14 columns):\n",
      " #   Column    Non-Null Count  Dtype  \n",
      "---  ------    --------------  -----  \n",
      " 0   age       303 non-null    int64  \n",
      " 1   sex       303 non-null    int64  \n",
      " 2   cp        303 non-null    int64  \n",
      " 3   trestbps  303 non-null    int64  \n",
      " 4   chol      303 non-null    int64  \n",
      " 5   fbs       303 non-null    int64  \n",
      " 6   restecg   303 non-null    int64  \n",
      " 7   thalach   303 non-null    int64  \n",
      " 8   exang     303 non-null    int64  \n",
      " 9   oldpeak   303 non-null    float64\n",
      " 10  slope     303 non-null    int64  \n",
      " 11  ca        303 non-null    int64  \n",
      " 12  thal      303 non-null    int64  \n",
      " 13  target    303 non-null    int64  \n",
      "dtypes: float64(1), int64(13)\n",
      "memory usage: 33.3 KB\n"
     ]
    }
   ],
   "source": [
    "df.info()"
   ]
  },
  {
   "cell_type": "code",
   "execution_count": 8,
   "id": "f71e1b5e",
   "metadata": {
    "execution": {
     "iopub.execute_input": "2024-06-12T14:30:25.095966Z",
     "iopub.status.busy": "2024-06-12T14:30:25.095562Z",
     "iopub.status.idle": "2024-06-12T14:30:25.147791Z",
     "shell.execute_reply": "2024-06-12T14:30:25.146667Z"
    },
    "papermill": {
     "duration": 0.071922,
     "end_time": "2024-06-12T14:30:25.150558",
     "exception": false,
     "start_time": "2024-06-12T14:30:25.078636",
     "status": "completed"
    },
    "tags": []
   },
   "outputs": [
    {
     "data": {
      "text/html": [
       "<div>\n",
       "<style scoped>\n",
       "    .dataframe tbody tr th:only-of-type {\n",
       "        vertical-align: middle;\n",
       "    }\n",
       "\n",
       "    .dataframe tbody tr th {\n",
       "        vertical-align: top;\n",
       "    }\n",
       "\n",
       "    .dataframe thead th {\n",
       "        text-align: right;\n",
       "    }\n",
       "</style>\n",
       "<table border=\"1\" class=\"dataframe\">\n",
       "  <thead>\n",
       "    <tr style=\"text-align: right;\">\n",
       "      <th></th>\n",
       "      <th>age</th>\n",
       "      <th>sex</th>\n",
       "      <th>cp</th>\n",
       "      <th>trestbps</th>\n",
       "      <th>chol</th>\n",
       "      <th>fbs</th>\n",
       "      <th>restecg</th>\n",
       "      <th>thalach</th>\n",
       "      <th>exang</th>\n",
       "      <th>oldpeak</th>\n",
       "      <th>slope</th>\n",
       "      <th>ca</th>\n",
       "      <th>thal</th>\n",
       "      <th>target</th>\n",
       "    </tr>\n",
       "  </thead>\n",
       "  <tbody>\n",
       "    <tr>\n",
       "      <th>count</th>\n",
       "      <td>303.000000</td>\n",
       "      <td>303.000000</td>\n",
       "      <td>303.000000</td>\n",
       "      <td>303.000000</td>\n",
       "      <td>303.000000</td>\n",
       "      <td>303.000000</td>\n",
       "      <td>303.000000</td>\n",
       "      <td>303.000000</td>\n",
       "      <td>303.000000</td>\n",
       "      <td>303.000000</td>\n",
       "      <td>303.000000</td>\n",
       "      <td>303.000000</td>\n",
       "      <td>303.000000</td>\n",
       "      <td>303.000000</td>\n",
       "    </tr>\n",
       "    <tr>\n",
       "      <th>mean</th>\n",
       "      <td>54.366337</td>\n",
       "      <td>0.683168</td>\n",
       "      <td>0.966997</td>\n",
       "      <td>131.623762</td>\n",
       "      <td>246.264026</td>\n",
       "      <td>0.148515</td>\n",
       "      <td>0.528053</td>\n",
       "      <td>149.646865</td>\n",
       "      <td>0.326733</td>\n",
       "      <td>1.039604</td>\n",
       "      <td>1.399340</td>\n",
       "      <td>0.729373</td>\n",
       "      <td>2.313531</td>\n",
       "      <td>0.544554</td>\n",
       "    </tr>\n",
       "    <tr>\n",
       "      <th>std</th>\n",
       "      <td>9.082101</td>\n",
       "      <td>0.466011</td>\n",
       "      <td>1.032052</td>\n",
       "      <td>17.538143</td>\n",
       "      <td>51.830751</td>\n",
       "      <td>0.356198</td>\n",
       "      <td>0.525860</td>\n",
       "      <td>22.905161</td>\n",
       "      <td>0.469794</td>\n",
       "      <td>1.161075</td>\n",
       "      <td>0.616226</td>\n",
       "      <td>1.022606</td>\n",
       "      <td>0.612277</td>\n",
       "      <td>0.498835</td>\n",
       "    </tr>\n",
       "    <tr>\n",
       "      <th>min</th>\n",
       "      <td>29.000000</td>\n",
       "      <td>0.000000</td>\n",
       "      <td>0.000000</td>\n",
       "      <td>94.000000</td>\n",
       "      <td>126.000000</td>\n",
       "      <td>0.000000</td>\n",
       "      <td>0.000000</td>\n",
       "      <td>71.000000</td>\n",
       "      <td>0.000000</td>\n",
       "      <td>0.000000</td>\n",
       "      <td>0.000000</td>\n",
       "      <td>0.000000</td>\n",
       "      <td>0.000000</td>\n",
       "      <td>0.000000</td>\n",
       "    </tr>\n",
       "    <tr>\n",
       "      <th>25%</th>\n",
       "      <td>47.500000</td>\n",
       "      <td>0.000000</td>\n",
       "      <td>0.000000</td>\n",
       "      <td>120.000000</td>\n",
       "      <td>211.000000</td>\n",
       "      <td>0.000000</td>\n",
       "      <td>0.000000</td>\n",
       "      <td>133.500000</td>\n",
       "      <td>0.000000</td>\n",
       "      <td>0.000000</td>\n",
       "      <td>1.000000</td>\n",
       "      <td>0.000000</td>\n",
       "      <td>2.000000</td>\n",
       "      <td>0.000000</td>\n",
       "    </tr>\n",
       "    <tr>\n",
       "      <th>50%</th>\n",
       "      <td>55.000000</td>\n",
       "      <td>1.000000</td>\n",
       "      <td>1.000000</td>\n",
       "      <td>130.000000</td>\n",
       "      <td>240.000000</td>\n",
       "      <td>0.000000</td>\n",
       "      <td>1.000000</td>\n",
       "      <td>153.000000</td>\n",
       "      <td>0.000000</td>\n",
       "      <td>0.800000</td>\n",
       "      <td>1.000000</td>\n",
       "      <td>0.000000</td>\n",
       "      <td>2.000000</td>\n",
       "      <td>1.000000</td>\n",
       "    </tr>\n",
       "    <tr>\n",
       "      <th>75%</th>\n",
       "      <td>61.000000</td>\n",
       "      <td>1.000000</td>\n",
       "      <td>2.000000</td>\n",
       "      <td>140.000000</td>\n",
       "      <td>274.500000</td>\n",
       "      <td>0.000000</td>\n",
       "      <td>1.000000</td>\n",
       "      <td>166.000000</td>\n",
       "      <td>1.000000</td>\n",
       "      <td>1.600000</td>\n",
       "      <td>2.000000</td>\n",
       "      <td>1.000000</td>\n",
       "      <td>3.000000</td>\n",
       "      <td>1.000000</td>\n",
       "    </tr>\n",
       "    <tr>\n",
       "      <th>max</th>\n",
       "      <td>77.000000</td>\n",
       "      <td>1.000000</td>\n",
       "      <td>3.000000</td>\n",
       "      <td>200.000000</td>\n",
       "      <td>564.000000</td>\n",
       "      <td>1.000000</td>\n",
       "      <td>2.000000</td>\n",
       "      <td>202.000000</td>\n",
       "      <td>1.000000</td>\n",
       "      <td>6.200000</td>\n",
       "      <td>2.000000</td>\n",
       "      <td>4.000000</td>\n",
       "      <td>3.000000</td>\n",
       "      <td>1.000000</td>\n",
       "    </tr>\n",
       "  </tbody>\n",
       "</table>\n",
       "</div>"
      ],
      "text/plain": [
       "              age         sex          cp    trestbps        chol         fbs  \\\n",
       "count  303.000000  303.000000  303.000000  303.000000  303.000000  303.000000   \n",
       "mean    54.366337    0.683168    0.966997  131.623762  246.264026    0.148515   \n",
       "std      9.082101    0.466011    1.032052   17.538143   51.830751    0.356198   \n",
       "min     29.000000    0.000000    0.000000   94.000000  126.000000    0.000000   \n",
       "25%     47.500000    0.000000    0.000000  120.000000  211.000000    0.000000   \n",
       "50%     55.000000    1.000000    1.000000  130.000000  240.000000    0.000000   \n",
       "75%     61.000000    1.000000    2.000000  140.000000  274.500000    0.000000   \n",
       "max     77.000000    1.000000    3.000000  200.000000  564.000000    1.000000   \n",
       "\n",
       "          restecg     thalach       exang     oldpeak       slope          ca  \\\n",
       "count  303.000000  303.000000  303.000000  303.000000  303.000000  303.000000   \n",
       "mean     0.528053  149.646865    0.326733    1.039604    1.399340    0.729373   \n",
       "std      0.525860   22.905161    0.469794    1.161075    0.616226    1.022606   \n",
       "min      0.000000   71.000000    0.000000    0.000000    0.000000    0.000000   \n",
       "25%      0.000000  133.500000    0.000000    0.000000    1.000000    0.000000   \n",
       "50%      1.000000  153.000000    0.000000    0.800000    1.000000    0.000000   \n",
       "75%      1.000000  166.000000    1.000000    1.600000    2.000000    1.000000   \n",
       "max      2.000000  202.000000    1.000000    6.200000    2.000000    4.000000   \n",
       "\n",
       "             thal      target  \n",
       "count  303.000000  303.000000  \n",
       "mean     2.313531    0.544554  \n",
       "std      0.612277    0.498835  \n",
       "min      0.000000    0.000000  \n",
       "25%      2.000000    0.000000  \n",
       "50%      2.000000    1.000000  \n",
       "75%      3.000000    1.000000  \n",
       "max      3.000000    1.000000  "
      ]
     },
     "execution_count": 8,
     "metadata": {},
     "output_type": "execute_result"
    }
   ],
   "source": [
    "df.describe()"
   ]
  },
  {
   "cell_type": "markdown",
   "id": "fab2b766",
   "metadata": {
    "papermill": {
     "duration": 0.01695,
     "end_time": "2024-06-12T14:30:25.183494",
     "exception": false,
     "start_time": "2024-06-12T14:30:25.166544",
     "status": "completed"
    },
    "tags": []
   },
   "source": [
    "## Exploratory Data Analysis"
   ]
  },
  {
   "cell_type": "code",
   "execution_count": 9,
   "id": "ad6a395e",
   "metadata": {
    "execution": {
     "iopub.execute_input": "2024-06-12T14:30:25.217674Z",
     "iopub.status.busy": "2024-06-12T14:30:25.217174Z",
     "iopub.status.idle": "2024-06-12T14:30:26.844552Z",
     "shell.execute_reply": "2024-06-12T14:30:26.843149Z"
    },
    "papermill": {
     "duration": 1.647418,
     "end_time": "2024-06-12T14:30:26.847397",
     "exception": false,
     "start_time": "2024-06-12T14:30:25.199979",
     "status": "completed"
    },
    "tags": []
   },
   "outputs": [],
   "source": [
    "import matplotlib.pyplot as plt\n",
    "import seaborn as sns"
   ]
  },
  {
   "cell_type": "code",
   "execution_count": 11,
   "id": "49967efe",
   "metadata": {
    "execution": {
     "iopub.execute_input": "2024-06-12T14:30:26.881113Z",
     "iopub.status.busy": "2024-06-12T14:30:26.880695Z",
     "iopub.status.idle": "2024-06-12T14:30:26.891567Z",
     "shell.execute_reply": "2024-06-12T14:30:26.890159Z"
    },
    "papermill": {
     "duration": 0.030561,
     "end_time": "2024-06-12T14:30:26.893948",
     "exception": false,
     "start_time": "2024-06-12T14:30:26.863387",
     "status": "completed"
    },
    "tags": []
   },
   "outputs": [
    {
     "data": {
      "text/plain": [
       "sex\n",
       "1    207\n",
       "0     96\n",
       "Name: count, dtype: int64"
      ]
     },
     "execution_count": 11,
     "metadata": {},
     "output_type": "execute_result"
    }
   ],
   "source": [
    "# 1 = Male, 0 = Female\n",
    "df['sex'].value_counts()"
   ]
  },
  {
   "cell_type": "code",
   "execution_count": 12,
   "id": "b2d46f45",
   "metadata": {
    "execution": {
     "iopub.execute_input": "2024-06-12T14:30:26.927666Z",
     "iopub.status.busy": "2024-06-12T14:30:26.927222Z",
     "iopub.status.idle": "2024-06-12T14:30:27.143314Z",
     "shell.execute_reply": "2024-06-12T14:30:27.141433Z"
    },
    "papermill": {
     "duration": 0.237724,
     "end_time": "2024-06-12T14:30:27.147716",
     "exception": false,
     "start_time": "2024-06-12T14:30:26.909992",
     "status": "completed"
    },
    "tags": []
   },
   "outputs": [
    {
     "data": {
      "text/plain": [
       "([<matplotlib.patches.Wedge at 0x1d7b9ab8ef0>,\n",
       "  <matplotlib.patches.Wedge at 0x1d7b9881100>],\n",
       " [Text(-0.9228481310997082, -0.5986245291714798, '1'),\n",
       "  Text(0.9228481871469777, 0.5986244427681993, '0')],\n",
       " [Text(-0.503371707872568, -0.32652247045717075, '68.3%'),\n",
       "  Text(0.5033717384438059, 0.32652242332810866, '31.7%')])"
      ]
     },
     "execution_count": 12,
     "metadata": {},
     "output_type": "execute_result"
    },
    {
     "data": {
      "image/png": "[encoded data removed]",
      "text/plain": [
       "<Figure size 640x480 with 1 Axes>"
      ]
     },
     "metadata": {},
     "output_type": "display_data"
    }
   ],
   "source": [
    "# 1 = Male, 0 = Female\n",
    "labels = '1', '0'\n",
    "sizes = [207,96]\n",
    "\n",
    "fig, ax = plt.subplots()\n",
    "ax.pie(sizes, labels=labels, autopct='%1.1f%%',shadow=True, startangle=90)"
   ]
  },
  {
   "cell_type": "code",
   "execution_count": 13,
   "id": "7892781e",
   "metadata": {
    "execution": {
     "iopub.execute_input": "2024-06-12T14:30:27.207049Z",
     "iopub.status.busy": "2024-06-12T14:30:27.206644Z",
     "iopub.status.idle": "2024-06-12T14:30:27.645802Z",
     "shell.execute_reply": "2024-06-12T14:30:27.644572Z"
    },
    "papermill": {
     "duration": 0.464251,
     "end_time": "2024-06-12T14:30:27.648281",
     "exception": false,
     "start_time": "2024-06-12T14:30:27.184030",
     "status": "completed"
    },
    "tags": []
   },
   "outputs": [
    {
     "data": {
      "image/png": "[encoded data removed]",
      "text/plain": [
       "<Figure size 640x480 with 1 Axes>"
      ]
     },
     "metadata": {},
     "output_type": "display_data"
    }
   ],
   "source": [
    "ax = sns.countplot(df,x = 'cp',hue = 'target',palette = 'Set2')\n",
    "for lab in ax.containers:\n",
    "    ax.bar_label(lab)"
   ]
  },
  {
   "cell_type": "code",
   "execution_count": 14,
   "id": "7caf6609",
   "metadata": {
    "execution": {
     "iopub.execute_input": "2024-06-12T14:30:27.719703Z",
     "iopub.status.busy": "2024-06-12T14:30:27.719172Z",
     "iopub.status.idle": "2024-06-12T14:30:29.928404Z",
     "shell.execute_reply": "2024-06-12T14:30:29.926876Z"
    },
    "papermill": {
     "duration": 2.231169,
     "end_time": "2024-06-12T14:30:29.931237",
     "exception": false,
     "start_time": "2024-06-12T14:30:27.700068",
     "status": "completed"
    },
    "tags": []
   },
   "outputs": [
    {
     "data": {
      "text/plain": [
       "<Axes: xlabel='age', ylabel='trestbps'>"
      ]
     },
     "execution_count": 14,
     "metadata": {},
     "output_type": "execute_result"
    },
    {
     "data": {
      "image/png": "[encoded data removed]",
      "text/plain": [
       "<Figure size 640x480 with 1 Axes>"
      ]
     },
     "metadata": {},
     "output_type": "display_data"
    }
   ],
   "source": [
    "# More females in the age  group of 50 to 70 experienced higher blood pressure than men\n",
    "sns.lineplot(df,x = 'age',y = 'trestbps',hue = 'sex',palette=\"Set1\")"
   ]
  },
  {
   "cell_type": "code",
   "execution_count": 15,
   "id": "9e1961cb",
   "metadata": {
    "execution": {
     "iopub.execute_input": "2024-06-12T14:30:30.009028Z",
     "iopub.status.busy": "2024-06-12T14:30:30.008595Z",
     "iopub.status.idle": "2024-06-12T14:30:32.107388Z",
     "shell.execute_reply": "2024-06-12T14:30:32.106180Z"
    },
    "papermill": {
     "duration": 2.122784,
     "end_time": "2024-06-12T14:30:32.110025",
     "exception": false,
     "start_time": "2024-06-12T14:30:29.987241",
     "status": "completed"
    },
    "tags": []
   },
   "outputs": [
    {
     "data": {
      "text/plain": [
       "<Axes: xlabel='age', ylabel='chol'>"
      ]
     },
     "execution_count": 15,
     "metadata": {},
     "output_type": "execute_result"
    },
    {
     "data": {
      "image/png": "[encoded data removed]",
      "text/plain": [
       "<Figure size 640x480 with 1 Axes>"
      ]
     },
     "metadata": {},
     "output_type": "display_data"
    }
   ],
   "source": [
    "# More females in the age  group of 50 to 70 experienced higher Cholesterol than men\n",
    "sns.lineplot(df,x = 'age',y = 'chol',hue = 'sex',palette='viridis')"
   ]
  },
  {
   "cell_type": "code",
   "execution_count": 16,
   "id": "59389957",
   "metadata": {
    "execution": {
     "iopub.execute_input": "2024-06-12T14:30:32.194892Z",
     "iopub.status.busy": "2024-06-12T14:30:32.194463Z",
     "iopub.status.idle": "2024-06-12T14:30:32.451382Z",
     "shell.execute_reply": "2024-06-12T14:30:32.450011Z"
    },
    "papermill": {
     "duration": 0.28231,
     "end_time": "2024-06-12T14:30:32.454095",
     "exception": false,
     "start_time": "2024-06-12T14:30:32.171785",
     "status": "completed"
    },
    "tags": []
   },
   "outputs": [
    {
     "data": {
      "image/png": "[encoded data removed]",
      "text/plain": [
       "<Figure size 640x480 with 1 Axes>"
      ]
     },
     "metadata": {},
     "output_type": "display_data"
    }
   ],
   "source": [
    "## 0 - False\n",
    "## 1 - True\n",
    "ax = sns.countplot(df,x ='exang',hue = 'target',palette= \"magma\")\n",
    "for lab in ax.containers:\n",
    "    ax.bar_label(lab)"
   ]
  },
  {
   "cell_type": "code",
   "execution_count": 17,
   "id": "510a9be3",
   "metadata": {
    "execution": {
     "iopub.execute_input": "2024-06-12T14:30:32.496679Z",
     "iopub.status.busy": "2024-06-12T14:30:32.496306Z",
     "iopub.status.idle": "2024-06-12T14:30:32.811577Z",
     "shell.execute_reply": "2024-06-12T14:30:32.810410Z"
    },
    "papermill": {
     "duration": 0.339641,
     "end_time": "2024-06-12T14:30:32.814283",
     "exception": false,
     "start_time": "2024-06-12T14:30:32.474642",
     "status": "completed"
    },
    "tags": []
   },
   "outputs": [
    {
     "data": {
      "image/png": "[encoded data removed]",
      "text/plain": [
       "<Figure size 640x480 with 1 Axes>"
      ]
     },
     "metadata": {},
     "output_type": "display_data"
    }
   ],
   "source": [
    "ax = sns.countplot(df,x = 'fbs',hue = 'target',palette = \"Paired\")\n",
    "for lab in ax.containers:\n",
    "    ax.bar_label(lab)"
   ]
  },
  {
   "cell_type": "code",
   "execution_count": 18,
   "id": "4556d8b7",
   "metadata": {
    "execution": {
     "iopub.execute_input": "2024-06-12T14:30:32.857533Z",
     "iopub.status.busy": "2024-06-12T14:30:32.857098Z",
     "iopub.status.idle": "2024-06-12T14:30:33.128949Z",
     "shell.execute_reply": "2024-06-12T14:30:33.127473Z"
    },
    "papermill": {
     "duration": 0.297236,
     "end_time": "2024-06-12T14:30:33.132158",
     "exception": false,
     "start_time": "2024-06-12T14:30:32.834922",
     "status": "completed"
    },
    "tags": []
   },
   "outputs": [
    {
     "name": "stderr",
     "output_type": "stream",
     "text": [
      "C:\\Users\\Lenovo\\AppData\\Local\\Temp\\ipykernel_15344\\2098279146.py:1: FutureWarning: \n",
      "\n",
      "Passing `palette` without assigning `hue` is deprecated and will be removed in v0.14.0. Assign the `x` variable to `hue` and set `legend=False` for the same effect.\n",
      "\n",
      "  sns.boxplot(df,x = 'target',y = 'oldpeak',palette = 'mako')\n"
     ]
    },
    {
     "data": {
      "text/plain": [
       "<Axes: xlabel='target', ylabel='oldpeak'>"
      ]
     },
     "execution_count": 18,
     "metadata": {},
     "output_type": "execute_result"
    },
    {
     "data": {
      "image/png": "[encoded data removed]",
      "text/plain": [
       "<Figure size 640x480 with 1 Axes>"
      ]
     },
     "metadata": {},
     "output_type": "display_data"
    }
   ],
   "source": [
    "sns.boxplot(df,x = 'target',y = 'oldpeak',palette = 'mako')"
   ]
  },
  {
   "cell_type": "code",
   "execution_count": 21,
   "id": "6964508a",
   "metadata": {
    "execution": {
     "iopub.execute_input": "2024-06-12T14:30:33.176800Z",
     "iopub.status.busy": "2024-06-12T14:30:33.176411Z",
     "iopub.status.idle": "2024-06-12T14:30:33.457828Z",
     "shell.execute_reply": "2024-06-12T14:30:33.456555Z"
    },
    "papermill": {
     "duration": 0.307022,
     "end_time": "2024-06-12T14:30:33.460584",
     "exception": false,
     "start_time": "2024-06-12T14:30:33.153562",
     "status": "completed"
    },
    "tags": []
   },
   "outputs": [
    {
     "name": "stderr",
     "output_type": "stream",
     "text": [
      "C:\\Users\\Lenovo\\AppData\\Local\\Temp\\ipykernel_15344\\693557455.py:1: FutureWarning: \n",
      "\n",
      "Passing `palette` without assigning `hue` is deprecated and will be removed in v0.14.0. Assign the `x` variable to `hue` and set `legend=False` for the same effect.\n",
      "\n",
      "  sns.boxplot(df,x = 'target',y = 'thal',palette = 'flare')\n"
     ]
    },
    {
     "data": {
      "text/plain": [
       "<Axes: xlabel='target', ylabel='thal'>"
      ]
     },
     "execution_count": 21,
     "metadata": {},
     "output_type": "execute_result"
    },
    {
     "data": {
      "image/png": "[encoded data removed]",
      "text/plain": [
       "<Figure size 640x480 with 1 Axes>"
      ]
     },
     "metadata": {},
     "output_type": "display_data"
    }
   ],
   "source": [
    "sns.boxplot(df,x = 'target',y = 'thal',palette = 'flare')"
   ]
  },
  {
   "cell_type": "code",
   "execution_count": 22,
   "id": "d21cce69",
   "metadata": {
    "execution": {
     "iopub.execute_input": "2024-06-12T14:30:33.623963Z",
     "iopub.status.busy": "2024-06-12T14:30:33.623554Z",
     "iopub.status.idle": "2024-06-12T14:30:33.630579Z",
     "shell.execute_reply": "2024-06-12T14:30:33.629359Z"
    },
    "papermill": {
     "duration": 0.034898,
     "end_time": "2024-06-12T14:30:33.633229",
     "exception": false,
     "start_time": "2024-06-12T14:30:33.598331",
     "status": "completed"
    },
    "tags": []
   },
   "outputs": [],
   "source": [
    "X = df[[\"age\", \"sex\", \"cp\", \"trestbps\", \"chol\", \"fbs\", \"thalach\", \"exang\"]]\n",
    "y = df['target']"
   ]
  },
  {
   "cell_type": "markdown",
   "id": "a4e197db",
   "metadata": {
    "papermill": {
     "duration": 0.021876,
     "end_time": "2024-06-12T14:30:33.920046",
     "exception": false,
     "start_time": "2024-06-12T14:30:33.898170",
     "status": "completed"
    },
    "tags": []
   },
   "source": [
    "## Train Test Split"
   ]
  },
  {
   "cell_type": "code",
   "execution_count": 23,
   "id": "7342810f",
   "metadata": {
    "execution": {
     "iopub.execute_input": "2024-06-12T14:30:33.679630Z",
     "iopub.status.busy": "2024-06-12T14:30:33.679203Z",
     "iopub.status.idle": "2024-06-12T14:30:33.872950Z",
     "shell.execute_reply": "2024-06-12T14:30:33.871554Z"
    },
    "papermill": {
     "duration": 0.220563,
     "end_time": "2024-06-12T14:30:33.875797",
     "exception": false,
     "start_time": "2024-06-12T14:30:33.655234",
     "status": "completed"
    },
    "tags": []
   },
   "outputs": [],
   "source": [
    "from sklearn.preprocessing import StandardScaler,LabelEncoder\n",
    "from sklearn.model_selection import train_test_split"
   ]
  },
  {
   "cell_type": "code",
   "execution_count": 24,
   "id": "1ed1b4e5",
   "metadata": {
    "execution": {
     "iopub.execute_input": "2024-06-12T14:30:34.145806Z",
     "iopub.status.busy": "2024-06-12T14:30:34.145386Z",
     "iopub.status.idle": "2024-06-12T14:30:34.156470Z",
     "shell.execute_reply": "2024-06-12T14:30:34.155219Z"
    },
    "papermill": {
     "duration": 0.03714,
     "end_time": "2024-06-12T14:30:34.159076",
     "exception": false,
     "start_time": "2024-06-12T14:30:34.121936",
     "status": "completed"
    },
    "tags": []
   },
   "outputs": [],
   "source": [
    "X_train, X_test, y_train, y_test = train_test_split(X, y, test_size=0.33, random_state=42)"
   ]
  },
  {
   "cell_type": "markdown",
   "id": "77d5b2ea",
   "metadata": {
    "papermill": {
     "duration": 0.021703,
     "end_time": "2024-06-12T14:30:34.202993",
     "exception": false,
     "start_time": "2024-06-12T14:30:34.181290",
     "status": "completed"
    },
    "tags": []
   },
   "source": [
    "## Feature Scaling"
   ]
  },
  {
   "cell_type": "code",
   "execution_count": 25,
   "id": "a2e900a5",
   "metadata": {
    "execution": {
     "iopub.execute_input": "2024-06-12T14:30:34.249260Z",
     "iopub.status.busy": "2024-06-12T14:30:34.248846Z",
     "iopub.status.idle": "2024-06-12T14:30:34.261777Z",
     "shell.execute_reply": "2024-06-12T14:30:34.260430Z"
    },
    "papermill": {
     "duration": 0.038953,
     "end_time": "2024-06-12T14:30:34.264392",
     "exception": false,
     "start_time": "2024-06-12T14:30:34.225439",
     "status": "completed"
    },
    "tags": []
   },
   "outputs": [],
   "source": [
    "scaler = StandardScaler()\n",
    "X_train = scaler.fit_transform(X_train)\n",
    "X_test = scaler.transform(X_test)"
   ]
  },
  {
   "cell_type": "code",
   "execution_count": 26,
   "id": "c3bee7a8",
   "metadata": {
    "execution": {
     "iopub.execute_input": "2024-06-12T14:30:34.310076Z",
     "iopub.status.busy": "2024-06-12T14:30:34.309696Z",
     "iopub.status.idle": "2024-06-12T14:30:34.315476Z",
     "shell.execute_reply": "2024-06-12T14:30:34.314223Z"
    },
    "papermill": {
     "duration": 0.031567,
     "end_time": "2024-06-12T14:30:34.317984",
     "exception": false,
     "start_time": "2024-06-12T14:30:34.286417",
     "status": "completed"
    },
    "tags": []
   },
   "outputs": [],
   "source": [
    "le = LabelEncoder()\n",
    "y=le.fit_transform(y)"
   ]
  },
  {
   "cell_type": "markdown",
   "id": "c8c78cd4",
   "metadata": {
    "papermill": {
     "duration": 0.02226,
     "end_time": "2024-06-12T14:30:34.362317",
     "exception": false,
     "start_time": "2024-06-12T14:30:34.340057",
     "status": "completed"
    },
    "tags": []
   },
   "source": [
    "## Feature Extraction"
   ]
  },
  {
   "cell_type": "code",
   "execution_count": 27,
   "id": "41526e07",
   "metadata": {
    "execution": {
     "iopub.execute_input": "2024-06-12T14:30:34.407777Z",
     "iopub.status.busy": "2024-06-12T14:30:34.407393Z",
     "iopub.status.idle": "2024-06-12T14:30:34.555952Z",
     "shell.execute_reply": "2024-06-12T14:30:34.554615Z"
    },
    "papermill": {
     "duration": 0.174939,
     "end_time": "2024-06-12T14:30:34.559042",
     "exception": false,
     "start_time": "2024-06-12T14:30:34.384103",
     "status": "completed"
    },
    "tags": []
   },
   "outputs": [],
   "source": [
    "from sklearn.decomposition import PCA"
   ]
  },
  {
   "cell_type": "code",
   "execution_count": 29,
   "id": "9b7a3b9a",
   "metadata": {
    "execution": {
     "iopub.execute_input": "2024-06-12T14:30:34.605671Z",
     "iopub.status.busy": "2024-06-12T14:30:34.605273Z",
     "iopub.status.idle": "2024-06-12T14:30:34.628008Z",
     "shell.execute_reply": "2024-06-12T14:30:34.626686Z"
    },
    "papermill": {
     "duration": 0.049606,
     "end_time": "2024-06-12T14:30:34.630831",
     "exception": false,
     "start_time": "2024-06-12T14:30:34.581225",
     "status": "completed"
    },
    "tags": []
   },
   "outputs": [],
   "source": [
    "pca = PCA(n_components=8)\n",
    "X_train_trf = pca.fit_transform(X_train)\n",
    "X_test_trf = pca.transform(X_test)"
   ]
  },
  {
   "cell_type": "markdown",
   "id": "31ca3d56",
   "metadata": {
    "papermill": {
     "duration": 0.021666,
     "end_time": "2024-06-12T14:30:34.674855",
     "exception": false,
     "start_time": "2024-06-12T14:30:34.653189",
     "status": "completed"
    },
    "tags": []
   },
   "source": [
    "## Model Building"
   ]
  },
  {
   "cell_type": "code",
   "execution_count": 44,
   "id": "9d0a75e4",
   "metadata": {
    "execution": {
     "iopub.execute_input": "2024-06-12T14:30:34.822213Z",
     "iopub.status.busy": "2024-06-12T14:30:34.821746Z",
     "iopub.status.idle": "2024-06-12T14:30:34.827956Z",
     "shell.execute_reply": "2024-06-12T14:30:34.826629Z"
    },
    "papermill": {
     "duration": 0.035643,
     "end_time": "2024-06-12T14:30:34.830935",
     "exception": false,
     "start_time": "2024-06-12T14:30:34.795292",
     "status": "completed"
    },
    "tags": []
   },
   "outputs": [],
   "source": [
    "import pickle\n",
    "import tensorflow as tf\n",
    "from sklearn.metrics import classification_report\n",
    "from keras.models import Sequential\n",
    "from keras.layers import Dense, ReLU, Dropout\n",
    "\n",
    "model = Sequential()\n",
    "model.add(Dense(100, input_shape=(8,),activation=\"relu\"))\n",
    "model.add(Dense(units=64, activation='relu')),\n",
    "model.add(Dropout(rate=0.2)),\n",
    "model.add(Dense(units=128, activation='relu')),\n",
    "model.add(Dropout(rate=0.2)),\n",
    "model.add(Dense(units=1, activation='sigmoid'))\n",
    "model.compile(optimizer='Adam', loss='categorical_hinge', metrics=['accuracy'])"
   ]
  },
  {
   "cell_type": "code",
   "execution_count": 45,
   "id": "c58a2acb",
   "metadata": {
    "execution": {
     "iopub.execute_input": "2024-06-12T14:30:34.877689Z",
     "iopub.status.busy": "2024-06-12T14:30:34.877258Z",
     "iopub.status.idle": "2024-06-12T14:30:34.902095Z",
     "shell.execute_reply": "2024-06-12T14:30:34.900609Z"
    },
    "papermill": {
     "duration": 0.051937,
     "end_time": "2024-06-12T14:30:34.905205",
     "exception": false,
     "start_time": "2024-06-12T14:30:34.853268",
     "status": "completed"
    },
    "tags": []
   },
   "outputs": [
    {
     "name": "stdout",
     "output_type": "stream",
     "text": [
      "Epoch 1/100\n",
      "\u001b[1m6/6\u001b[0m \u001b[32m━━━━━━━━━━━━━━━━━━━━\u001b[0m\u001b[37m\u001b[0m \u001b[1m4s\u001b[0m 67ms/step - accuracy: 0.4811 - loss: 0.9822 - val_accuracy: 0.7805 - val_loss: 0.9622\n",
      "Epoch 2/100\n",
      "\u001b[1m6/6\u001b[0m \u001b[32m━━━━━━━━━━━━━━━━━━━━\u001b[0m\u001b[37m\u001b[0m \u001b[1m0s\u001b[0m 13ms/step - accuracy: 0.6811 - loss: 0.9483 - val_accuracy: 0.7561 - val_loss: 0.9424\n",
      "Epoch 3/100\n",
      "\u001b[1m6/6\u001b[0m \u001b[32m━━━━━━━━━━━━━━━━━━━━\u001b[0m\u001b[37m\u001b[0m \u001b[1m0s\u001b[0m 13ms/step - accuracy: 0.7754 - loss: 0.9179 - val_accuracy: 0.7805 - val_loss: 0.9202\n",
      "Epoch 4/100\n",
      "\u001b[1m6/6\u001b[0m \u001b[32m━━━━━━━━━━━━━━━━━━━━\u001b[0m\u001b[37m\u001b[0m \u001b[1m0s\u001b[0m 14ms/step - accuracy: 0.7433 - loss: 0.9389 - val_accuracy: 0.7561 - val_loss: 0.8954\n",
      "Epoch 5/100\n",
      "\u001b[1m6/6\u001b[0m \u001b[32m━━━━━━━━━━━━━━━━━━━━\u001b[0m\u001b[37m\u001b[0m \u001b[1m0s\u001b[0m 13ms/step - accuracy: 0.7815 - loss: 0.8613 - val_accuracy: 0.7805 - val_loss: 0.8647\n",
      "Epoch 6/100\n",
      "\u001b[1m6/6\u001b[0m \u001b[32m━━━━━━━━━━━━━━━━━━━━\u001b[0m\u001b[37m\u001b[0m \u001b[1m0s\u001b[0m 17ms/step - accuracy: 0.7846 - loss: 0.8556 - val_accuracy: 0.7561 - val_loss: 0.8283\n",
      "Epoch 7/100\n",
      "\u001b[1m6/6\u001b[0m \u001b[32m━━━━━━━━━━━━━━━━━━━━\u001b[0m\u001b[37m\u001b[0m \u001b[1m0s\u001b[0m 16ms/step - accuracy: 0.7977 - loss: 0.8057 - val_accuracy: 0.7561 - val_loss: 0.7917\n",
      "Epoch 8/100\n",
      "\u001b[1m6/6\u001b[0m \u001b[32m━━━━━━━━━━━━━━━━━━━━\u001b[0m\u001b[37m\u001b[0m \u001b[1m0s\u001b[0m 13ms/step - accuracy: 0.7309 - loss: 0.7970 - val_accuracy: 0.7561 - val_loss: 0.7639\n",
      "Epoch 9/100\n",
      "\u001b[1m6/6\u001b[0m \u001b[32m━━━━━━━━━━━━━━━━━━━━\u001b[0m\u001b[37m\u001b[0m \u001b[1m0s\u001b[0m 15ms/step - accuracy: 0.7724 - loss: 0.7613 - val_accuracy: 0.7561 - val_loss: 0.7459\n",
      "Epoch 10/100\n",
      "\u001b[1m6/6\u001b[0m \u001b[32m━━━━━━━━━━━━━━━━━━━━\u001b[0m\u001b[37m\u001b[0m \u001b[1m0s\u001b[0m 23ms/step - accuracy: 0.7813 - loss: 0.6874 - val_accuracy: 0.7561 - val_loss: 0.7392\n",
      "Epoch 11/100\n",
      "\u001b[1m6/6\u001b[0m \u001b[32m━━━━━━━━━━━━━━━━━━━━\u001b[0m\u001b[37m\u001b[0m \u001b[1m0s\u001b[0m 14ms/step - accuracy: 0.7778 - loss: 0.7118 - val_accuracy: 0.7561 - val_loss: 0.7332\n",
      "Epoch 12/100\n",
      "\u001b[1m6/6\u001b[0m \u001b[32m━━━━━━━━━━━━━━━━━━━━\u001b[0m\u001b[37m\u001b[0m \u001b[1m0s\u001b[0m 24ms/step - accuracy: 0.7508 - loss: 0.7712 - val_accuracy: 0.7317 - val_loss: 0.7336\n",
      "Epoch 13/100\n",
      "\u001b[1m6/6\u001b[0m \u001b[32m━━━━━━━━━━━━━━━━━━━━\u001b[0m\u001b[37m\u001b[0m \u001b[1m0s\u001b[0m 19ms/step - accuracy: 0.7863 - loss: 0.6932 - val_accuracy: 0.7317 - val_loss: 0.7319\n",
      "Epoch 14/100\n",
      "\u001b[1m6/6\u001b[0m \u001b[32m━━━━━━━━━━━━━━━━━━━━\u001b[0m\u001b[37m\u001b[0m \u001b[1m0s\u001b[0m 19ms/step - accuracy: 0.7997 - loss: 0.7092 - val_accuracy: 0.7317 - val_loss: 0.7312\n",
      "Epoch 15/100\n",
      "\u001b[1m6/6\u001b[0m \u001b[32m━━━━━━━━━━━━━━━━━━━━\u001b[0m\u001b[37m\u001b[0m \u001b[1m0s\u001b[0m 22ms/step - accuracy: 0.7672 - loss: 0.7238 - val_accuracy: 0.7561 - val_loss: 0.7305\n",
      "Epoch 16/100\n",
      "\u001b[1m6/6\u001b[0m \u001b[32m━━━━━━━━━━━━━━━━━━━━\u001b[0m\u001b[37m\u001b[0m \u001b[1m0s\u001b[0m 13ms/step - accuracy: 0.8085 - loss: 0.6640 - val_accuracy: 0.7561 - val_loss: 0.7283\n",
      "Epoch 17/100\n",
      "\u001b[1m6/6\u001b[0m \u001b[32m━━━━━━━━━━━━━━━━━━━━\u001b[0m\u001b[37m\u001b[0m \u001b[1m0s\u001b[0m 15ms/step - accuracy: 0.7870 - loss: 0.6674 - val_accuracy: 0.7561 - val_loss: 0.7304\n",
      "Epoch 18/100\n",
      "\u001b[1m6/6\u001b[0m \u001b[32m━━━━━━━━━━━━━━━━━━━━\u001b[0m\u001b[37m\u001b[0m \u001b[1m0s\u001b[0m 16ms/step - accuracy: 0.7776 - loss: 0.6925 - val_accuracy: 0.7561 - val_loss: 0.7281\n",
      "Epoch 19/100\n",
      "\u001b[1m6/6\u001b[0m \u001b[32m━━━━━━━━━━━━━━━━━━━━\u001b[0m\u001b[37m\u001b[0m \u001b[1m0s\u001b[0m 15ms/step - accuracy: 0.8020 - loss: 0.6787 - val_accuracy: 0.7561 - val_loss: 0.7261\n",
      "Epoch 20/100\n",
      "\u001b[1m6/6\u001b[0m \u001b[32m━━━━━━━━━━━━━━━━━━━━\u001b[0m\u001b[37m\u001b[0m \u001b[1m0s\u001b[0m 14ms/step - accuracy: 0.7904 - loss: 0.6607 - val_accuracy: 0.7561 - val_loss: 0.7328\n",
      "Epoch 21/100\n",
      "\u001b[1m6/6\u001b[0m \u001b[32m━━━━━━━━━━━━━━━━━━━━\u001b[0m\u001b[37m\u001b[0m \u001b[1m0s\u001b[0m 15ms/step - accuracy: 0.7971 - loss: 0.6797 - val_accuracy: 0.7561 - val_loss: 0.7364\n",
      "Epoch 22/100\n",
      "\u001b[1m6/6\u001b[0m \u001b[32m━━━━━━━━━━━━━━━━━━━━\u001b[0m\u001b[37m\u001b[0m \u001b[1m0s\u001b[0m 15ms/step - accuracy: 0.8373 - loss: 0.6652 - val_accuracy: 0.7561 - val_loss: 0.7322\n",
      "Epoch 23/100\n",
      "\u001b[1m6/6\u001b[0m \u001b[32m━━━━━━━━━━━━━━━━━━━━\u001b[0m\u001b[37m\u001b[0m \u001b[1m0s\u001b[0m 15ms/step - accuracy: 0.8497 - loss: 0.6714 - val_accuracy: 0.7317 - val_loss: 0.7271\n",
      "Epoch 24/100\n",
      "\u001b[1m6/6\u001b[0m \u001b[32m━━━━━━━━━━━━━━━━━━━━\u001b[0m\u001b[37m\u001b[0m \u001b[1m0s\u001b[0m 17ms/step - accuracy: 0.8215 - loss: 0.6617 - val_accuracy: 0.7805 - val_loss: 0.7245\n",
      "Epoch 25/100\n",
      "\u001b[1m6/6\u001b[0m \u001b[32m━━━━━━━━━━━━━━━━━━━━\u001b[0m\u001b[37m\u001b[0m \u001b[1m0s\u001b[0m 14ms/step - accuracy: 0.8374 - loss: 0.6731 - val_accuracy: 0.7805 - val_loss: 0.7177\n",
      "Epoch 26/100\n",
      "\u001b[1m6/6\u001b[0m \u001b[32m━━━━━━━━━━━━━━━━━━━━\u001b[0m\u001b[37m\u001b[0m \u001b[1m0s\u001b[0m 13ms/step - accuracy: 0.8134 - loss: 0.6547 - val_accuracy: 0.7805 - val_loss: 0.7162\n",
      "Epoch 27/100\n",
      "\u001b[1m6/6\u001b[0m \u001b[32m━━━━━━━━━━━━━━━━━━━━\u001b[0m\u001b[37m\u001b[0m \u001b[1m0s\u001b[0m 50ms/step - accuracy: 0.7784 - loss: 0.6668 - val_accuracy: 0.7805 - val_loss: 0.7142\n",
      "Epoch 28/100\n",
      "\u001b[1m6/6\u001b[0m \u001b[32m━━━━━━━━━━━━━━━━━━━━\u001b[0m\u001b[37m\u001b[0m \u001b[1m1s\u001b[0m 16ms/step - accuracy: 0.8215 - loss: 0.6901 - val_accuracy: 0.7805 - val_loss: 0.7023\n",
      "Epoch 29/100\n",
      "\u001b[1m6/6\u001b[0m \u001b[32m━━━━━━━━━━━━━━━━━━━━\u001b[0m\u001b[37m\u001b[0m \u001b[1m0s\u001b[0m 16ms/step - accuracy: 0.8360 - loss: 0.6435 - val_accuracy: 0.7805 - val_loss: 0.6991\n",
      "Epoch 30/100\n",
      "\u001b[1m6/6\u001b[0m \u001b[32m━━━━━━━━━━━━━━━━━━━━\u001b[0m\u001b[37m\u001b[0m \u001b[1m0s\u001b[0m 15ms/step - accuracy: 0.8375 - loss: 0.6239 - val_accuracy: 0.7805 - val_loss: 0.7000\n",
      "Epoch 31/100\n",
      "\u001b[1m6/6\u001b[0m \u001b[32m━━━━━━━━━━━━━━━━━━━━\u001b[0m\u001b[37m\u001b[0m \u001b[1m0s\u001b[0m 14ms/step - accuracy: 0.8592 - loss: 0.6537 - val_accuracy: 0.7805 - val_loss: 0.6896\n",
      "Epoch 32/100\n",
      "\u001b[1m6/6\u001b[0m \u001b[32m━━━━━━━━━━━━━━━━━━━━\u001b[0m\u001b[37m\u001b[0m \u001b[1m0s\u001b[0m 15ms/step - accuracy: 0.8156 - loss: 0.7043 - val_accuracy: 0.7805 - val_loss: 0.6895\n",
      "Epoch 33/100\n",
      "\u001b[1m6/6\u001b[0m \u001b[32m━━━━━━━━━━━━━━━━━━━━\u001b[0m\u001b[37m\u001b[0m \u001b[1m0s\u001b[0m 14ms/step - accuracy: 0.8423 - loss: 0.5925 - val_accuracy: 0.8049 - val_loss: 0.6932\n",
      "Epoch 34/100\n",
      "\u001b[1m6/6\u001b[0m \u001b[32m━━━━━━━━━━━━━━━━━━━━\u001b[0m\u001b[37m\u001b[0m \u001b[1m0s\u001b[0m 16ms/step - accuracy: 0.8303 - loss: 0.6510 - val_accuracy: 0.8049 - val_loss: 0.6881\n",
      "Epoch 35/100\n",
      "\u001b[1m6/6\u001b[0m \u001b[32m━━━━━━━━━━━━━━━━━━━━\u001b[0m\u001b[37m\u001b[0m \u001b[1m0s\u001b[0m 14ms/step - accuracy: 0.8507 - loss: 0.6668 - val_accuracy: 0.8049 - val_loss: 0.6869\n",
      "Epoch 36/100\n",
      "\u001b[1m6/6\u001b[0m \u001b[32m━━━━━━━━━━━━━━━━━━━━\u001b[0m\u001b[37m\u001b[0m \u001b[1m0s\u001b[0m 13ms/step - accuracy: 0.8669 - loss: 0.6227 - val_accuracy: 0.8049 - val_loss: 0.6925\n",
      "Epoch 37/100\n",
      "\u001b[1m6/6\u001b[0m \u001b[32m━━━━━━━━━━━━━━━━━━━━\u001b[0m\u001b[37m\u001b[0m \u001b[1m0s\u001b[0m 13ms/step - accuracy: 0.8353 - loss: 0.6246 - val_accuracy: 0.8049 - val_loss: 0.6934\n",
      "Epoch 38/100\n",
      "\u001b[1m6/6\u001b[0m \u001b[32m━━━━━━━━━━━━━━━━━━━━\u001b[0m\u001b[37m\u001b[0m \u001b[1m0s\u001b[0m 14ms/step - accuracy: 0.8585 - loss: 0.6350 - val_accuracy: 0.7805 - val_loss: 0.6883\n",
      "Epoch 39/100\n",
      "\u001b[1m6/6\u001b[0m \u001b[32m━━━━━━━━━━━━━━━━━━━━\u001b[0m\u001b[37m\u001b[0m \u001b[1m0s\u001b[0m 14ms/step - accuracy: 0.8664 - loss: 0.6211 - val_accuracy: 0.8293 - val_loss: 0.6837\n",
      "Epoch 40/100\n",
      "\u001b[1m6/6\u001b[0m \u001b[32m━━━━━━━━━━━━━━━━━━━━\u001b[0m\u001b[37m\u001b[0m \u001b[1m0s\u001b[0m 15ms/step - accuracy: 0.8754 - loss: 0.5936 - val_accuracy: 0.8293 - val_loss: 0.6793\n",
      "Epoch 41/100\n",
      "\u001b[1m6/6\u001b[0m \u001b[32m━━━━━━━━━━━━━━━━━━━━\u001b[0m\u001b[37m\u001b[0m \u001b[1m0s\u001b[0m 16ms/step - accuracy: 0.8263 - loss: 0.6438 - val_accuracy: 0.8049 - val_loss: 0.6863\n",
      "Epoch 42/100\n",
      "\u001b[1m6/6\u001b[0m \u001b[32m━━━━━━━━━━━━━━━━━━━━\u001b[0m\u001b[37m\u001b[0m \u001b[1m0s\u001b[0m 14ms/step - accuracy: 0.8843 - loss: 0.5996 - val_accuracy: 0.8049 - val_loss: 0.6896\n",
      "Epoch 43/100\n",
      "\u001b[1m6/6\u001b[0m \u001b[32m━━━━━━━━━━━━━━━━━━━━\u001b[0m\u001b[37m\u001b[0m \u001b[1m0s\u001b[0m 15ms/step - accuracy: 0.8442 - loss: 0.6176 - val_accuracy: 0.8293 - val_loss: 0.6883\n",
      "Epoch 44/100\n",
      "\u001b[1m6/6\u001b[0m \u001b[32m━━━━━━━━━━━━━━━━━━━━\u001b[0m\u001b[37m\u001b[0m \u001b[1m0s\u001b[0m 13ms/step - accuracy: 0.8667 - loss: 0.6315 - val_accuracy: 0.8049 - val_loss: 0.6881\n",
      "Epoch 45/100\n",
      "\u001b[1m6/6\u001b[0m \u001b[32m━━━━━━━━━━━━━━━━━━━━\u001b[0m\u001b[37m\u001b[0m \u001b[1m0s\u001b[0m 14ms/step - accuracy: 0.8927 - loss: 0.5899 - val_accuracy: 0.8049 - val_loss: 0.6835\n",
      "Epoch 46/100\n",
      "\u001b[1m6/6\u001b[0m \u001b[32m━━━━━━━━━━━━━━━━━━━━\u001b[0m\u001b[37m\u001b[0m \u001b[1m0s\u001b[0m 13ms/step - accuracy: 0.8976 - loss: 0.5997 - val_accuracy: 0.8049 - val_loss: 0.6826\n",
      "Epoch 47/100\n",
      "\u001b[1m6/6\u001b[0m \u001b[32m━━━━━━━━━━━━━━━━━━━━\u001b[0m\u001b[37m\u001b[0m \u001b[1m0s\u001b[0m 13ms/step - accuracy: 0.8902 - loss: 0.5618 - val_accuracy: 0.7805 - val_loss: 0.6891\n",
      "Epoch 48/100\n",
      "\u001b[1m6/6\u001b[0m \u001b[32m━━━━━━━━━━━━━━━━━━━━\u001b[0m\u001b[37m\u001b[0m \u001b[1m0s\u001b[0m 14ms/step - accuracy: 0.8589 - loss: 0.6138 - val_accuracy: 0.7805 - val_loss: 0.6873\n",
      "Epoch 49/100\n",
      "\u001b[1m6/6\u001b[0m \u001b[32m━━━━━━━━━━━━━━━━━━━━\u001b[0m\u001b[37m\u001b[0m \u001b[1m0s\u001b[0m 13ms/step - accuracy: 0.8898 - loss: 0.5967 - val_accuracy: 0.7805 - val_loss: 0.6927\n",
      "Epoch 50/100\n",
      "\u001b[1m6/6\u001b[0m \u001b[32m━━━━━━━━━━━━━━━━━━━━\u001b[0m\u001b[37m\u001b[0m \u001b[1m0s\u001b[0m 17ms/step - accuracy: 0.8672 - loss: 0.6145 - val_accuracy: 0.7805 - val_loss: 0.6976\n",
      "Epoch 51/100\n",
      "\u001b[1m6/6\u001b[0m \u001b[32m━━━━━━━━━━━━━━━━━━━━\u001b[0m\u001b[37m\u001b[0m \u001b[1m0s\u001b[0m 15ms/step - accuracy: 0.9090 - loss: 0.6133 - val_accuracy: 0.7805 - val_loss: 0.7002\n",
      "Epoch 52/100\n",
      "\u001b[1m6/6\u001b[0m \u001b[32m━━━━━━━━━━━━━━━━━━━━\u001b[0m\u001b[37m\u001b[0m \u001b[1m0s\u001b[0m 16ms/step - accuracy: 0.8755 - loss: 0.6542 - val_accuracy: 0.8049 - val_loss: 0.6949\n",
      "Epoch 53/100\n",
      "\u001b[1m6/6\u001b[0m \u001b[32m━━━━━━━━━━━━━━━━━━━━\u001b[0m\u001b[37m\u001b[0m \u001b[1m0s\u001b[0m 13ms/step - accuracy: 0.8899 - loss: 0.6153 - val_accuracy: 0.8049 - val_loss: 0.7008\n",
      "Epoch 54/100\n",
      "\u001b[1m6/6\u001b[0m \u001b[32m━━━━━━━━━━━━━━━━━━━━\u001b[0m\u001b[37m\u001b[0m \u001b[1m0s\u001b[0m 13ms/step - accuracy: 0.8457 - loss: 0.6356 - val_accuracy: 0.7805 - val_loss: 0.7138\n",
      "Epoch 55/100\n",
      "\u001b[1m6/6\u001b[0m \u001b[32m━━━━━━━━━━━━━━━━━━━━\u001b[0m\u001b[37m\u001b[0m \u001b[1m0s\u001b[0m 13ms/step - accuracy: 0.8713 - loss: 0.5852 - val_accuracy: 0.8049 - val_loss: 0.7025\n",
      "Epoch 56/100\n",
      "\u001b[1m6/6\u001b[0m \u001b[32m━━━━━━━━━━━━━━━━━━━━\u001b[0m\u001b[37m\u001b[0m \u001b[1m0s\u001b[0m 13ms/step - accuracy: 0.8882 - loss: 0.5637 - val_accuracy: 0.7805 - val_loss: 0.6955\n",
      "Epoch 57/100\n",
      "\u001b[1m6/6\u001b[0m \u001b[32m━━━━━━━━━━━━━━━━━━━━\u001b[0m\u001b[37m\u001b[0m \u001b[1m0s\u001b[0m 13ms/step - accuracy: 0.8926 - loss: 0.5616 - val_accuracy: 0.7805 - val_loss: 0.6968\n",
      "Epoch 58/100\n",
      "\u001b[1m6/6\u001b[0m \u001b[32m━━━━━━━━━━━━━━━━━━━━\u001b[0m\u001b[37m\u001b[0m \u001b[1m0s\u001b[0m 13ms/step - accuracy: 0.9038 - loss: 0.6274 - val_accuracy: 0.8049 - val_loss: 0.6998\n",
      "Epoch 59/100\n",
      "\u001b[1m6/6\u001b[0m \u001b[32m━━━━━━━━━━━━━━━━━━━━\u001b[0m\u001b[37m\u001b[0m \u001b[1m0s\u001b[0m 13ms/step - accuracy: 0.9068 - loss: 0.5660 - val_accuracy: 0.8049 - val_loss: 0.7010\n",
      "Epoch 60/100\n",
      "\u001b[1m6/6\u001b[0m \u001b[32m━━━━━━━━━━━━━━━━━━━━\u001b[0m\u001b[37m\u001b[0m \u001b[1m0s\u001b[0m 14ms/step - accuracy: 0.8673 - loss: 0.6041 - val_accuracy: 0.7805 - val_loss: 0.7033\n",
      "Epoch 61/100\n",
      "\u001b[1m6/6\u001b[0m \u001b[32m━━━━━━━━━━━━━━━━━━━━\u001b[0m\u001b[37m\u001b[0m \u001b[1m0s\u001b[0m 17ms/step - accuracy: 0.8636 - loss: 0.6288 - val_accuracy: 0.7805 - val_loss: 0.7023\n",
      "Epoch 62/100\n",
      "\u001b[1m6/6\u001b[0m \u001b[32m━━━━━━━━━━━━━━━━━━━━\u001b[0m\u001b[37m\u001b[0m \u001b[1m0s\u001b[0m 15ms/step - accuracy: 0.9072 - loss: 0.5876 - val_accuracy: 0.7805 - val_loss: 0.7028\n",
      "Epoch 63/100\n",
      "\u001b[1m6/6\u001b[0m \u001b[32m━━━━━━━━━━━━━━━━━━━━\u001b[0m\u001b[37m\u001b[0m \u001b[1m0s\u001b[0m 13ms/step - accuracy: 0.8845 - loss: 0.5790 - val_accuracy: 0.7805 - val_loss: 0.7065\n",
      "Epoch 64/100\n",
      "\u001b[1m6/6\u001b[0m \u001b[32m━━━━━━━━━━━━━━━━━━━━\u001b[0m\u001b[37m\u001b[0m \u001b[1m0s\u001b[0m 16ms/step - accuracy: 0.8849 - loss: 0.6188 - val_accuracy: 0.7805 - val_loss: 0.7036\n",
      "Epoch 65/100\n",
      "\u001b[1m6/6\u001b[0m \u001b[32m━━━━━━━━━━━━━━━━━━━━\u001b[0m\u001b[37m\u001b[0m \u001b[1m0s\u001b[0m 16ms/step - accuracy: 0.8871 - loss: 0.5963 - val_accuracy: 0.7805 - val_loss: 0.7044\n",
      "Epoch 66/100\n",
      "\u001b[1m6/6\u001b[0m \u001b[32m━━━━━━━━━━━━━━━━━━━━\u001b[0m\u001b[37m\u001b[0m \u001b[1m0s\u001b[0m 15ms/step - accuracy: 0.9084 - loss: 0.5697 - val_accuracy: 0.8049 - val_loss: 0.6973\n",
      "Epoch 67/100\n",
      "\u001b[1m6/6\u001b[0m \u001b[32m━━━━━━━━━━━━━━━━━━━━\u001b[0m\u001b[37m\u001b[0m \u001b[1m0s\u001b[0m 13ms/step - accuracy: 0.8562 - loss: 0.5876 - val_accuracy: 0.8049 - val_loss: 0.6913\n",
      "Epoch 68/100\n",
      "\u001b[1m6/6\u001b[0m \u001b[32m━━━━━━━━━━━━━━━━━━━━\u001b[0m\u001b[37m\u001b[0m \u001b[1m0s\u001b[0m 19ms/step - accuracy: 0.8909 - loss: 0.6017 - val_accuracy: 0.8049 - val_loss: 0.6986\n",
      "Epoch 69/100\n",
      "\u001b[1m6/6\u001b[0m \u001b[32m━━━━━━━━━━━━━━━━━━━━\u001b[0m\u001b[37m\u001b[0m \u001b[1m0s\u001b[0m 19ms/step - accuracy: 0.8575 - loss: 0.5638 - val_accuracy: 0.8049 - val_loss: 0.6998\n",
      "Epoch 70/100\n",
      "\u001b[1m6/6\u001b[0m \u001b[32m━━━━━━━━━━━━━━━━━━━━\u001b[0m\u001b[37m\u001b[0m \u001b[1m0s\u001b[0m 18ms/step - accuracy: 0.8762 - loss: 0.5809 - val_accuracy: 0.8049 - val_loss: 0.7005\n",
      "Epoch 71/100\n",
      "\u001b[1m6/6\u001b[0m \u001b[32m━━━━━━━━━━━━━━━━━━━━\u001b[0m\u001b[37m\u001b[0m \u001b[1m0s\u001b[0m 18ms/step - accuracy: 0.9072 - loss: 0.5709 - val_accuracy: 0.7805 - val_loss: 0.7033\n",
      "Epoch 72/100\n",
      "\u001b[1m6/6\u001b[0m \u001b[32m━━━━━━━━━━━━━━━━━━━━\u001b[0m\u001b[37m\u001b[0m \u001b[1m0s\u001b[0m 13ms/step - accuracy: 0.8755 - loss: 0.5899 - val_accuracy: 0.7805 - val_loss: 0.7032\n",
      "Epoch 73/100\n",
      "\u001b[1m6/6\u001b[0m \u001b[32m━━━━━━━━━━━━━━━━━━━━\u001b[0m\u001b[37m\u001b[0m \u001b[1m0s\u001b[0m 14ms/step - accuracy: 0.8796 - loss: 0.6143 - val_accuracy: 0.7805 - val_loss: 0.7045\n",
      "Epoch 74/100\n",
      "\u001b[1m6/6\u001b[0m \u001b[32m━━━━━━━━━━━━━━━━━━━━\u001b[0m\u001b[37m\u001b[0m \u001b[1m0s\u001b[0m 13ms/step - accuracy: 0.8926 - loss: 0.5655 - val_accuracy: 0.7805 - val_loss: 0.7091\n",
      "Epoch 75/100\n",
      "\u001b[1m6/6\u001b[0m \u001b[32m━━━━━━━━━━━━━━━━━━━━\u001b[0m\u001b[37m\u001b[0m \u001b[1m0s\u001b[0m 14ms/step - accuracy: 0.8848 - loss: 0.6114 - val_accuracy: 0.7805 - val_loss: 0.7085\n",
      "Epoch 76/100\n",
      "\u001b[1m6/6\u001b[0m \u001b[32m━━━━━━━━━━━━━━━━━━━━\u001b[0m\u001b[37m\u001b[0m \u001b[1m0s\u001b[0m 13ms/step - accuracy: 0.9054 - loss: 0.5984 - val_accuracy: 0.7805 - val_loss: 0.7051\n",
      "Epoch 77/100\n",
      "\u001b[1m6/6\u001b[0m \u001b[32m━━━━━━━━━━━━━━━━━━━━\u001b[0m\u001b[37m\u001b[0m \u001b[1m0s\u001b[0m 13ms/step - accuracy: 0.8963 - loss: 0.5955 - val_accuracy: 0.7805 - val_loss: 0.7083\n",
      "Epoch 78/100\n",
      "\u001b[1m6/6\u001b[0m \u001b[32m━━━━━━━━━━━━━━━━━━━━\u001b[0m\u001b[37m\u001b[0m \u001b[1m0s\u001b[0m 30ms/step - accuracy: 0.8780 - loss: 0.5610 - val_accuracy: 0.7805 - val_loss: 0.7116\n",
      "Epoch 79/100\n",
      "\u001b[1m6/6\u001b[0m \u001b[32m━━━━━━━━━━━━━━━━━━━━\u001b[0m\u001b[37m\u001b[0m \u001b[1m0s\u001b[0m 23ms/step - accuracy: 0.8693 - loss: 0.6330 - val_accuracy: 0.7561 - val_loss: 0.7158\n",
      "Epoch 80/100\n",
      "\u001b[1m6/6\u001b[0m \u001b[32m━━━━━━━━━━━━━━━━━━━━\u001b[0m\u001b[37m\u001b[0m \u001b[1m0s\u001b[0m 13ms/step - accuracy: 0.9144 - loss: 0.5938 - val_accuracy: 0.7805 - val_loss: 0.7134\n",
      "Epoch 81/100\n",
      "\u001b[1m6/6\u001b[0m \u001b[32m━━━━━━━━━━━━━━━━━━━━\u001b[0m\u001b[37m\u001b[0m \u001b[1m0s\u001b[0m 13ms/step - accuracy: 0.8785 - loss: 0.6075 - val_accuracy: 0.7561 - val_loss: 0.7118\n",
      "Epoch 82/100\n",
      "\u001b[1m6/6\u001b[0m \u001b[32m━━━━━━━━━━━━━━━━━━━━\u001b[0m\u001b[37m\u001b[0m \u001b[1m0s\u001b[0m 13ms/step - accuracy: 0.8745 - loss: 0.5778 - val_accuracy: 0.8049 - val_loss: 0.7001\n",
      "Epoch 83/100\n",
      "\u001b[1m6/6\u001b[0m \u001b[32m━━━━━━━━━━━━━━━━━━━━\u001b[0m\u001b[37m\u001b[0m \u001b[1m0s\u001b[0m 15ms/step - accuracy: 0.8846 - loss: 0.5787 - val_accuracy: 0.8049 - val_loss: 0.6971\n",
      "Epoch 84/100\n",
      "\u001b[1m6/6\u001b[0m \u001b[32m━━━━━━━━━━━━━━━━━━━━\u001b[0m\u001b[37m\u001b[0m \u001b[1m0s\u001b[0m 20ms/step - accuracy: 0.9109 - loss: 0.5340 - val_accuracy: 0.7805 - val_loss: 0.7139\n",
      "Epoch 85/100\n",
      "\u001b[1m6/6\u001b[0m \u001b[32m━━━━━━━━━━━━━━━━━━━━\u001b[0m\u001b[37m\u001b[0m \u001b[1m0s\u001b[0m 13ms/step - accuracy: 0.9198 - loss: 0.5413 - val_accuracy: 0.8049 - val_loss: 0.7024\n",
      "Epoch 86/100\n",
      "\u001b[1m6/6\u001b[0m \u001b[32m━━━━━━━━━━━━━━━━━━━━\u001b[0m\u001b[37m\u001b[0m \u001b[1m0s\u001b[0m 13ms/step - accuracy: 0.8777 - loss: 0.5516 - val_accuracy: 0.7805 - val_loss: 0.6936\n",
      "Epoch 87/100\n",
      "\u001b[1m6/6\u001b[0m \u001b[32m━━━━━━━━━━━━━━━━━━━━\u001b[0m\u001b[37m\u001b[0m \u001b[1m0s\u001b[0m 16ms/step - accuracy: 0.8506 - loss: 0.6179 - val_accuracy: 0.7805 - val_loss: 0.6951\n",
      "Epoch 88/100\n",
      "\u001b[1m6/6\u001b[0m \u001b[32m━━━━━━━━━━━━━━━━━━━━\u001b[0m\u001b[37m\u001b[0m \u001b[1m0s\u001b[0m 18ms/step - accuracy: 0.8875 - loss: 0.5990 - val_accuracy: 0.7805 - val_loss: 0.7006\n",
      "Epoch 89/100\n",
      "\u001b[1m6/6\u001b[0m \u001b[32m━━━━━━━━━━━━━━━━━━━━\u001b[0m\u001b[37m\u001b[0m \u001b[1m0s\u001b[0m 13ms/step - accuracy: 0.8781 - loss: 0.5764 - val_accuracy: 0.7805 - val_loss: 0.7020\n",
      "Epoch 90/100\n",
      "\u001b[1m6/6\u001b[0m \u001b[32m━━━━━━━━━━━━━━━━━━━━\u001b[0m\u001b[37m\u001b[0m \u001b[1m0s\u001b[0m 15ms/step - accuracy: 0.8819 - loss: 0.5784 - val_accuracy: 0.7561 - val_loss: 0.7090\n",
      "Epoch 91/100\n",
      "\u001b[1m6/6\u001b[0m \u001b[32m━━━━━━━━━━━━━━━━━━━━\u001b[0m\u001b[37m\u001b[0m \u001b[1m0s\u001b[0m 13ms/step - accuracy: 0.8954 - loss: 0.6135 - val_accuracy: 0.7561 - val_loss: 0.7140\n",
      "Epoch 92/100\n",
      "\u001b[1m6/6\u001b[0m \u001b[32m━━━━━━━━━━━━━━━━━━━━\u001b[0m\u001b[37m\u001b[0m \u001b[1m0s\u001b[0m 18ms/step - accuracy: 0.8882 - loss: 0.5468 - val_accuracy: 0.7561 - val_loss: 0.7104\n",
      "Epoch 93/100\n",
      "\u001b[1m6/6\u001b[0m \u001b[32m━━━━━━━━━━━━━━━━━━━━\u001b[0m\u001b[37m\u001b[0m \u001b[1m0s\u001b[0m 14ms/step - accuracy: 0.8881 - loss: 0.5861 - val_accuracy: 0.7805 - val_loss: 0.7045\n",
      "Epoch 94/100\n",
      "\u001b[1m6/6\u001b[0m \u001b[32m━━━━━━━━━━━━━━━━━━━━\u001b[0m\u001b[37m\u001b[0m \u001b[1m0s\u001b[0m 14ms/step - accuracy: 0.8883 - loss: 0.5866 - val_accuracy: 0.7805 - val_loss: 0.6936\n",
      "Epoch 95/100\n",
      "\u001b[1m6/6\u001b[0m \u001b[32m━━━━━━━━━━━━━━━━━━━━\u001b[0m\u001b[37m\u001b[0m \u001b[1m0s\u001b[0m 14ms/step - accuracy: 0.8853 - loss: 0.5503 - val_accuracy: 0.7805 - val_loss: 0.6933\n",
      "Epoch 96/100\n",
      "\u001b[1m6/6\u001b[0m \u001b[32m━━━━━━━━━━━━━━━━━━━━\u001b[0m\u001b[37m\u001b[0m \u001b[1m0s\u001b[0m 19ms/step - accuracy: 0.8966 - loss: 0.5640 - val_accuracy: 0.7805 - val_loss: 0.7005\n",
      "Epoch 97/100\n",
      "\u001b[1m6/6\u001b[0m \u001b[32m━━━━━━━━━━━━━━━━━━━━\u001b[0m\u001b[37m\u001b[0m \u001b[1m0s\u001b[0m 16ms/step - accuracy: 0.9332 - loss: 0.5491 - val_accuracy: 0.7805 - val_loss: 0.7008\n",
      "Epoch 98/100\n",
      "\u001b[1m6/6\u001b[0m \u001b[32m━━━━━━━━━━━━━━━━━━━━\u001b[0m\u001b[37m\u001b[0m \u001b[1m0s\u001b[0m 16ms/step - accuracy: 0.9097 - loss: 0.5612 - val_accuracy: 0.7805 - val_loss: 0.6959\n",
      "Epoch 99/100\n",
      "\u001b[1m6/6\u001b[0m \u001b[32m━━━━━━━━━━━━━━━━━━━━\u001b[0m\u001b[37m\u001b[0m \u001b[1m0s\u001b[0m 15ms/step - accuracy: 0.8963 - loss: 0.5139 - val_accuracy: 0.8049 - val_loss: 0.6631\n",
      "Epoch 100/100\n",
      "\u001b[1m6/6\u001b[0m \u001b[32m━━━━━━━━━━━━━━━━━━━━\u001b[0m\u001b[37m\u001b[0m \u001b[1m0s\u001b[0m 14ms/step - accuracy: 0.8849 - loss: 0.5707 - val_accuracy: 0.8293 - val_loss: 0.6581\n"
     ]
    },
    {
     "data": {
      "text/plain": [
       "<keras.src.callbacks.history.History at 0x1d7cc3d4950>"
      ]
     },
     "execution_count": 45,
     "metadata": {},
     "output_type": "execute_result"
    }
   ],
   "source": [
    "model.fit(X_train_trf, y_train, epochs=100, batch_size=32, validation_split=0.2)"
   ]
  },
  {
   "cell_type": "code",
   "execution_count": 46,
   "id": "c48f5e16",
   "metadata": {
    "execution": {
     "iopub.execute_input": "2024-06-12T14:30:34.956153Z",
     "iopub.status.busy": "2024-06-12T14:30:34.954986Z",
     "iopub.status.idle": "2024-06-12T14:30:34.961781Z",
     "shell.execute_reply": "2024-06-12T14:30:34.960220Z"
    },
    "papermill": {
     "duration": 0.035701,
     "end_time": "2024-06-12T14:30:34.964812",
     "exception": false,
     "start_time": "2024-06-12T14:30:34.929111",
     "status": "completed"
    },
    "tags": []
   },
   "outputs": [
    {
     "name": "stdout",
     "output_type": "stream",
     "text": [
      "\u001b[1m4/4\u001b[0m \u001b[32m━━━━━━━━━━━━━━━━━━━━\u001b[0m\u001b[37m\u001b[0m \u001b[1m0s\u001b[0m 49ms/step\n",
      "[[ 2.48399412e+00 -2.66457495e-01 -2.65833660e-01 -4.77408924e-01\n",
      "  -3.77961885e-01 -4.29474296e-01  5.12867515e-01 -9.29710682e-01]\n",
      " [-7.37733927e-01  1.93118945e+00 -7.34780475e-01 -1.42916172e-01\n",
      "  -1.67451102e-01 -2.00137388e+00  1.24950131e+00 -7.74389329e-01]\n",
      " [-1.34374070e+00  1.05419633e+00 -3.25336148e+00  3.02144184e-01\n",
      "  -8.63012358e-01  1.09985147e-01 -1.04746985e+00  8.09468981e-01]\n",
      " [ 1.61790674e+00  1.15243955e+00  2.41458147e+00 -1.67813720e+00\n",
      "   2.47558026e-01  7.09675778e-01  7.20502105e-01  3.32017341e-02]\n",
      " [ 2.01480712e-01  2.07757007e+00 -7.12205345e-01  1.54834465e+00\n",
      "   1.72582966e+00  2.13041790e+00 -6.04709485e-01  8.02879369e-01]\n",
      " [-1.24955757e+00  1.57280533e-01 -1.15630555e+00  5.21070941e-01\n",
      "  -8.68890254e-01 -1.59889266e+00  6.05188710e-02  4.41411079e-01]\n",
      " [ 7.15655333e-01 -3.54418106e-01  1.02480333e+00 -6.19926638e-01\n",
      "  -1.76583691e+00  9.27000843e-01  2.96674182e-01  2.12211607e-01]\n",
      " [ 2.37169291e+00  3.39156914e+00 -1.23123273e+00 -1.42414819e+00\n",
      "  -2.67195329e+00  8.47430396e-01 -3.92963086e-01 -7.92104623e-01]\n",
      " [ 1.98909775e+00 -1.14362781e+00  1.93087060e-01 -5.28576124e-01\n",
      "   5.55093144e-01  3.75748334e-01  4.86801968e-01 -5.66621085e-01]\n",
      " [-8.52591862e-01 -3.28320863e-02 -6.55320135e-02  7.56040889e-02\n",
      "   9.58756969e-01 -5.76415936e-01  4.82605660e-01 -4.11642487e-01]\n",
      " [ 2.26068659e-01 -5.98204525e-01 -4.43080542e-01  3.99378531e-01\n",
      "  -4.90328409e-01 -1.07627664e+00 -1.14812989e+00 -1.90981297e-01]\n",
      " [-3.68983812e-01  1.98263787e+00 -1.05466545e+00  2.38502068e-01\n",
      "  -5.24377237e-01 -2.06939342e+00  1.28637543e+00 -1.21216200e+00]\n",
      " [-8.93825780e-01 -6.26639038e-02  8.04860406e-01 -1.11741629e+00\n",
      "   1.22768824e+00 -5.67816275e-01 -1.49492679e-01 -1.23688155e-01]\n",
      " [ 9.50997806e-01 -2.96553789e+00 -6.07831419e-01  1.41085309e-01\n",
      "  -6.08974922e-01  1.21828074e+00  2.36954966e-01 -6.82988349e-01]\n",
      " [-1.72716607e+00 -8.49611896e-01  1.16423246e+00  6.22106974e-01\n",
      "  -4.02723023e-01  1.06209317e+00 -4.92077718e-01  6.75201028e-01]\n",
      " [-1.93721739e+00 -1.56203140e-01 -3.78861961e-01 -6.98782144e-01\n",
      "  -4.60685741e-01 -8.78426126e-01  3.53967076e-01 -3.05559657e-01]\n",
      " [-2.62381843e+00 -8.22353356e-01  1.21465134e+00 -4.72063149e-01\n",
      "  -1.39026224e+00  9.84527176e-01 -4.21928746e-01  2.69256435e-01]\n",
      " [ 7.05883413e-01 -1.49589247e+00 -3.97199322e-01  1.19927568e+00\n",
      "   2.71587550e-01 -7.93799774e-02 -9.91244176e-01 -9.74384486e-01]\n",
      " [ 1.76166572e+00 -7.26581772e-01  2.42806327e-01 -1.35069433e+00\n",
      "  -1.88717037e-01  1.83889949e-01  6.72839788e-01 -1.35269850e+00]\n",
      " [ 1.96162362e+00 -1.22518894e+00 -9.99418328e-01  5.74720167e-01\n",
      "  -8.56739176e-01 -4.37711903e-01  2.24202455e-02  3.87704798e-01]\n",
      " [-5.61546256e-01  1.66846616e+00 -1.29240793e+00  7.27173418e-01\n",
      "  -4.92002396e-01 -2.17078459e+00  1.02425310e+00 -3.02303020e-01]\n",
      " [ 2.45561762e+00  3.15895017e-01 -1.74296339e+00 -8.57831105e-01\n",
      "   7.75566034e-01  1.93411268e+00 -4.34702456e-01 -7.31665381e-01]\n",
      " [ 2.44564560e+00 -7.72934941e-01 -2.58642825e-01  2.14732670e+00\n",
      "   1.46154569e+00 -1.35592032e-01 -7.48007659e-01 -1.59704320e+00]\n",
      " [ 4.98150306e-01  2.51519279e+00  1.15308638e+00  4.77086714e-01\n",
      "  -4.39459330e-01 -1.20594641e+00 -2.56108148e-01  4.76195308e-01]\n",
      " [-1.49327275e+00 -8.89283064e-02  9.58306701e-01  7.84568901e-01\n",
      "  -2.90017505e-01  1.05669192e+00  5.03786790e-01 -4.91867595e-01]\n",
      " [-1.16303641e+00 -5.67915869e-01 -8.04624501e-02 -1.39939548e+00\n",
      "  -1.49200503e+00 -1.06149595e+00 -1.01767809e+00 -6.34016855e-01]\n",
      " [-6.68600361e-02  1.38056440e+00 -9.12114765e-01  7.78618971e-01\n",
      "   2.55174086e-01 -1.39402771e+00  1.35884039e+00 -1.47163858e+00]\n",
      " [ 2.97690601e-01 -6.23719861e-01  1.33013862e-01 -2.00472142e+00\n",
      "  -8.36296007e-01 -7.06524523e-01  1.09188075e-01  9.99211577e-01]\n",
      " [ 1.28690250e+00  1.98685075e+00 -1.78979868e+00 -8.87804961e-01\n",
      "   9.61240027e-03  2.59398725e-01 -1.63053091e+00 -1.53826321e+00]\n",
      " [-6.02455990e-01 -4.81319083e-01  1.70060913e+00  2.84516552e-01\n",
      "  -7.28744827e-02  9.18958944e-01 -9.93270079e-01  2.45720843e-01]\n",
      " [ 2.72576266e+00 -7.68541291e-01 -1.76380020e-01  2.85803038e-01\n",
      "   5.92421252e-01 -6.05579445e-02  3.81788445e-01 -2.73845368e-01]\n",
      " [ 1.77645618e+00 -8.09026385e-01 -6.12398917e-01 -9.33348836e-02\n",
      "  -6.41020000e-01 -6.12803914e-01  8.83488236e-02  5.19211271e-01]\n",
      " [ 2.70350950e+00 -1.08643686e+00 -6.65047804e-02  3.56375750e-01\n",
      "   8.67931031e-01  2.88028017e-01  4.28091087e-01 -4.40042046e-01]\n",
      " [ 4.20617842e-01 -2.50106072e+00 -4.05293518e-02 -6.66548759e-01\n",
      "  -4.50775465e-02  8.39908454e-01  1.18857316e-01  4.59332777e-01]\n",
      " [ 2.15050884e-01  1.77808584e+00 -1.07072082e-01  2.55648766e+00\n",
      "  -3.25305524e-01 -2.63973727e-01  1.18580700e+00 -6.42902781e-01]\n",
      " [ 5.90010324e-01 -2.00455515e-01  1.67441369e-01  1.83175722e-01\n",
      "   6.49689711e-01 -1.02167769e+00 -1.03297260e+00  1.37147825e-02]\n",
      " [-1.41030515e+00  9.05852187e-01 -1.95445151e+00 -7.08192014e-01\n",
      "   8.82905853e-01  1.09753129e+00 -6.29329422e-01  1.27337525e-01]\n",
      " [-1.75115302e+00  8.63521524e-01 -1.79829958e+00 -1.10459809e+00\n",
      "   8.36861865e-01  1.14953718e+00 -6.16424897e-01  1.68566189e-01]\n",
      " [-1.53328853e+00 -7.75673393e-01 -1.16031951e+00 -9.59639043e-01\n",
      "  -1.25036304e+00 -1.95150758e-01  2.16933162e+00  3.79636906e-01]\n",
      " [-1.30234895e+00 -1.19004407e+00  6.77678771e-01 -1.28067578e+00\n",
      "   3.06323539e-01 -3.25244098e-01 -1.06383919e+00  2.27259930e-01]\n",
      " [-1.34796767e+00 -2.29079625e-02 -5.49045428e-01 -1.52264649e-03\n",
      "  -1.21737569e-01 -1.02627197e+00  2.85516394e-01 -4.63903424e-02]\n",
      " [ 6.49975058e-01 -4.18910790e-01 -6.13873421e-01 -5.81791309e-01\n",
      "  -5.79038547e-01 -7.93913915e-01  7.14896454e-01  1.03877234e+00]\n",
      " [ 1.13105895e-01  8.04118065e-01 -2.22547156e+00  3.55638809e-01\n",
      "   8.58948383e-01  8.45284493e-01 -1.41634793e+00  1.96175404e-01]\n",
      " [-1.94761706e+00 -7.84451339e-01 -4.81012770e-01 -2.95781629e-01\n",
      "  -3.39498454e-01 -3.83945039e-01  3.58405772e-01 -5.44494394e-01]\n",
      " [-1.45342933e+00 -8.43841103e-01  3.25269850e-01 -8.96663931e-01\n",
      "   3.61890088e-01 -2.85033378e-01 -2.67937589e-01 -2.76103589e-01]\n",
      " [ 8.16856806e-01 -2.58766059e-01 -1.80646846e+00 -1.90580400e+00\n",
      "  -3.57207610e-01  1.96264331e+00 -6.21058694e-01 -2.59506437e-01]\n",
      " [ 7.82226581e-01 -2.76584386e-01 -2.09639936e+00 -1.34265171e+00\n",
      "  -3.28905641e-01  1.57116117e+00 -9.31506607e-01  9.01071528e-01]\n",
      " [-1.41547514e+00  5.51892647e-01 -1.98049570e+00 -9.37678206e-01\n",
      "   1.81450971e-01  7.77177481e-01 -1.55547435e+00  8.34344193e-01]\n",
      " [ 1.69238779e+00  2.15544332e+00 -1.34075397e+00 -7.37945367e-01\n",
      "  -2.17786657e+00  1.39742169e+00 -7.56652220e-01  4.92404502e-01]\n",
      " [ 1.73738330e+00  1.83575278e-01 -1.01021803e-01 -1.44554983e+00\n",
      "  -8.89619227e-01 -9.49462626e-01  4.23524946e-01 -3.68662592e-01]\n",
      " [ 8.88907427e-01 -1.97817845e-02 -1.69432895e+00 -1.90022745e+00\n",
      "  -5.58469848e-02  1.75077186e+00 -6.87193034e-01  2.20390308e-01]\n",
      " [ 1.08613489e+00 -6.12250016e-01  3.43348524e-01 -1.94069077e+00\n",
      "  -4.77700525e-01 -1.09116883e-01  5.37830005e-01 -6.91287549e-01]\n",
      " [-6.19068780e-01 -1.12391546e+00 -5.56374956e-01  2.36465689e-01\n",
      "  -5.67758940e-01 -1.50910442e-01 -1.72078412e-01 -1.55732315e+00]\n",
      " [-9.67990323e-01  6.88767014e-01  1.77357218e+00  6.75839442e-01\n",
      "   1.49951521e+00  7.59091893e-01  4.79758472e-01  6.70339426e-01]\n",
      " [-1.51585870e-01 -1.18212771e-01  7.60961196e-01 -9.06340111e-01\n",
      "   8.96555488e-01 -9.33377260e-01 -9.74274581e-01  2.49353583e-01]\n",
      " [ 5.74795468e-01  7.95523880e-01  2.07400967e-01  1.47934039e+00\n",
      "  -2.08191250e+00 -7.25593458e-01 -1.20944433e+00  1.40040581e-01]\n",
      " [ 1.02359382e-01  8.68008324e-01 -5.08811182e-01  8.83926524e-01\n",
      "   8.78408658e-01 -1.49108513e+00  3.32965007e-01  1.42056353e-01]\n",
      " [-1.45927504e+00 -6.00092516e-01 -6.88146300e-01  3.70075801e-01\n",
      "  -8.64139073e-02 -6.60276015e-01  2.30784864e-01 -4.95034129e-02]\n",
      " [ 9.44452023e-01  1.16244866e+00 -2.30867366e+00  3.32621101e-01\n",
      "   2.17964118e-01  1.76005509e-01 -2.19324815e+00  3.89952821e-01]\n",
      " [ 1.87546079e+00 -1.28491371e-01 -1.64055884e-02 -9.68963072e-01\n",
      "  -2.13314995e-01 -7.24564137e-01  3.28235506e-01  1.32068772e-01]\n",
      " [ 6.03073843e-01 -2.86930058e-01 -2.03597274e-01 -6.55122000e-02\n",
      "  -5.39123578e-01 -8.43634028e-01 -7.81333825e-01 -1.56657197e+00]\n",
      " [-1.20428146e+00 -7.33751320e-01  5.48407940e-01 -1.06059527e+00\n",
      "   6.34943295e-01 -8.48395597e-02 -8.64541567e-02 -8.48441370e-01]\n",
      " [ 2.53978498e+00 -2.73990179e-01 -3.26148063e-01 -3.57731833e-01\n",
      "  -3.86602863e-01 -4.59573447e-01  4.88605311e-01 -8.70022947e-01]\n",
      " [-9.65316706e-01  6.36413566e-02 -7.10927628e-01  4.01190922e-03\n",
      "  -5.72089952e-01 -8.75578358e-01  5.20559224e-01 -1.24962928e+00]\n",
      " [-6.19195843e-01  7.18609146e-01  1.08900946e+00  5.27000374e-01\n",
      "  -6.34787099e-01  6.00940971e-02 -3.08760600e-01  1.75134370e-01]\n",
      " [ 1.01970268e+00 -7.30242947e-02 -1.76100005e+00 -1.22645991e+00\n",
      "   5.73744297e-01  1.51250278e+00 -9.80981864e-01  1.54841194e+00]\n",
      " [ 3.51126214e-02  7.09984179e-01  1.86170803e+00 -3.94631168e-02\n",
      "   1.12285461e-04  1.93355583e-01 -8.67236475e-01  1.21407446e-01]\n",
      " [ 5.21494996e-01  1.62679266e+00 -5.24213706e-01 -1.16678503e+00\n",
      "  -3.44124568e-01  2.42918818e+00  2.37363074e-02  9.51520823e-01]\n",
      " [-2.18679072e-01  1.20303772e+00  1.35358749e+00  2.72621569e-01\n",
      "  -3.33014442e-01 -1.36828659e-02 -1.24490773e-01 -2.79066362e-01]\n",
      " [-2.13550368e-01  1.31104128e+00  2.57878414e-01 -3.36891674e-01\n",
      "   1.33251294e+00 -1.39889247e+00  5.79154745e-01 -2.03497597e-01]\n",
      " [-1.88330817e+00 -1.11457538e+00  1.11689193e+00  5.45451214e-01\n",
      "  -6.25169627e-01  1.29572651e+00 -4.37265938e-01  2.98017023e-01]\n",
      " [-1.11085289e+00 -8.38192354e-01  6.60270711e-02 -1.17269317e+00\n",
      "  -9.48250803e-01 -7.95425843e-01 -1.04233092e+00 -4.08535515e-01]\n",
      " [ 1.54776621e+00  6.77102766e-01  8.22346845e-01 -9.23781797e-02\n",
      "  -1.57254310e+00 -2.57257117e-02  1.50169703e-01  1.00255014e+00]\n",
      " [-1.21039611e+00 -1.13304197e+00  2.63487821e-01 -8.77631742e-01\n",
      "  -1.67326340e-01 -6.44315703e-01 -1.20455932e+00  4.91713885e-01]\n",
      " [ 1.03954832e+00 -7.84024315e-02 -4.49454480e-01  7.90617003e-01\n",
      "  -1.21799158e-01 -1.30664352e+00 -1.06059604e+00 -3.98782097e-01]\n",
      " [-4.06216127e-01 -1.73034772e-01  5.22903854e-02 -1.40704104e-01\n",
      "   5.34730602e-01 -7.85561638e-01 -2.66422939e-01 -2.89252395e-01]\n",
      " [-3.59761619e-01  4.47564944e-01 -4.55827220e-01 -1.71713644e-01\n",
      "  -5.52135581e-01 -1.58807031e+00 -3.72529080e-01 -1.90270315e-01]\n",
      " [-3.28442441e-01  9.33500814e-01 -2.39400059e+00  5.29421804e-01\n",
      "   1.10939552e+00  1.08480718e+00 -6.26180311e-01 -1.73410066e-01]\n",
      " [ 3.36002058e-01  1.08858139e+00 -1.44760003e+00 -5.59721901e-01\n",
      "   1.25673412e+00  4.97746102e-01 -2.15225434e+00  9.74222280e-01]\n",
      " [-1.59899992e-01 -5.56346062e-01 -3.10642683e-01  6.51876196e-01\n",
      "   5.19476907e-01 -6.69839766e-01 -3.85029769e-01 -1.32721257e-01]\n",
      " [-2.22684204e+00 -9.33674715e-01 -8.67289036e-01 -2.30730338e-01\n",
      "  -1.11305841e+00 -5.37946627e-01  2.58670868e-01 -5.36066872e-01]\n",
      " [ 2.18717751e+00 -1.55875508e+00 -8.52857624e-01  6.50861037e-01\n",
      "  -5.58956779e-01  1.23942172e-01  2.24329652e-01 -4.41886228e-01]\n",
      " [-1.51549065e-01 -1.11862211e+00  1.74035247e+00  6.61023522e-01\n",
      "   2.19293337e-01  1.82283098e+00 -6.96271586e-01 -1.16298676e+00]\n",
      " [-7.77218126e-02 -1.76771843e+00 -4.49002384e-01  1.09905567e-01\n",
      "   8.24126737e-01  7.79486343e-01  1.51662596e+00  6.49768555e-01]\n",
      " [-1.00024194e+00 -1.88226067e+00  2.13316136e-01 -3.72695647e-01\n",
      "   1.13834976e-01  1.16926146e-01 -1.08280749e+00 -2.37036420e-01]\n",
      " [ 2.79773009e-01  1.02174791e+00  1.40262270e+00  3.75916974e-01\n",
      "  -5.45362692e-01 -3.32361115e-01 -1.00728247e+00  4.04601415e-01]\n",
      " [ 1.91709002e+00 -6.10169736e-01  1.19951920e-01 -1.05448678e+00\n",
      "  -1.23003972e-01 -3.43098570e-02  5.68262228e-01 -9.41188319e-01]\n",
      " [-5.93068778e-01  1.84537783e+00  2.97604701e-01  1.90209159e+00\n",
      "   3.51907111e-02 -4.99625340e-01  9.73945297e-01  6.64216721e-01]\n",
      " [ 4.86301816e-01 -2.05285200e-01  1.32194794e+00  1.68637434e+00\n",
      "   5.51436714e-01  5.30830577e-01 -1.18961939e+00  9.94028488e-01]\n",
      " [ 8.72273865e-02 -1.15304588e+00 -3.35226855e-01 -2.79264440e-02\n",
      "   1.01261175e+00  2.69291871e-01  1.45377582e+00  1.19645508e+00]\n",
      " [ 9.12783351e-01  1.41613601e+00 -5.94153330e-03  3.05126665e+00\n",
      "  -2.81904483e-02 -4.27084085e-01  2.53784798e-01  3.23291635e-01]\n",
      " [-2.79673102e+00 -1.21330789e+00  1.06348843e+00  5.83154492e-01\n",
      "  -2.01846960e-01  1.55197056e+00  2.01201945e-01  6.52241749e-01]\n",
      " [-2.90214001e+00 -1.47357423e+00 -7.56174384e-02 -1.66273828e+00\n",
      "  -1.26752884e+00 -2.79367961e-01 -4.28302093e-01 -2.53404419e-01]\n",
      " [-1.46265378e+00  8.32124809e-02  7.57728782e-01  1.05772983e+00\n",
      "  -3.86855576e-01  6.72576039e-01  3.24413010e-01  1.84873779e-01]\n",
      " [-8.19402344e-02 -3.24716583e-01  2.78105080e-02 -4.15447617e-01\n",
      "  -2.60926621e-01 -1.07105226e+00 -1.03110923e+00 -2.58319542e-01]\n",
      " [-2.22684204e+00 -9.33674715e-01 -8.67289036e-01 -2.30730338e-01\n",
      "  -1.11305841e+00 -5.37946627e-01  2.58670868e-01 -5.36066872e-01]\n",
      " [ 4.99947769e-01 -8.59653800e-02  7.97737672e-01  1.55199163e+00\n",
      "  -8.04728516e-01  3.62918268e-01 -1.06068817e+00 -1.26893731e-01]\n",
      " [-2.16756151e-01 -2.57581392e-01 -1.42858225e+00 -5.26772211e-01\n",
      "   1.18433861e+00  1.68087533e+00 -2.01735402e+00  3.59507333e-02]\n",
      " [-1.49142751e+00 -1.17383781e+00 -5.21637214e-02 -4.30756972e-01\n",
      "  -1.99641864e-03 -2.65892304e-01 -3.88707030e-01 -1.56299383e-01]\n",
      " [ 1.29683552e+00  1.12131068e-01 -1.41965395e-01 -1.34479970e-01\n",
      "   1.29253445e+00 -2.26060181e-01  1.78148432e+00  2.50153151e-01]]\n",
      "179    0\n",
      "228    0\n",
      "111    1\n",
      "246    0\n",
      "60     1\n",
      "      ..\n",
      "163    1\n",
      "155    1\n",
      "97     1\n",
      "68     1\n",
      "229    0\n",
      "Name: target, Length: 100, dtype: int64\n",
      "[[0]\n",
      " [0]\n",
      " [1]\n",
      " [0]\n",
      " [1]\n",
      " [1]\n",
      " [1]\n",
      " [0]\n",
      " [0]\n",
      " [1]\n",
      " [0]\n",
      " [0]\n",
      " [1]\n",
      " [0]\n",
      " [1]\n",
      " [1]\n",
      " [1]\n",
      " [0]\n",
      " [0]\n",
      " [0]\n",
      " [0]\n",
      " [0]\n",
      " [0]\n",
      " [0]\n",
      " [1]\n",
      " [1]\n",
      " [0]\n",
      " [0]\n",
      " [0]\n",
      " [1]\n",
      " [0]\n",
      " [0]\n",
      " [0]\n",
      " [0]\n",
      " [1]\n",
      " [0]\n",
      " [1]\n",
      " [1]\n",
      " [1]\n",
      " [1]\n",
      " [1]\n",
      " [0]\n",
      " [1]\n",
      " [1]\n",
      " [1]\n",
      " [0]\n",
      " [0]\n",
      " [1]\n",
      " [0]\n",
      " [0]\n",
      " [0]\n",
      " [0]\n",
      " [1]\n",
      " [1]\n",
      " [0]\n",
      " [0]\n",
      " [0]\n",
      " [1]\n",
      " [0]\n",
      " [0]\n",
      " [0]\n",
      " [1]\n",
      " [0]\n",
      " [1]\n",
      " [1]\n",
      " [0]\n",
      " [0]\n",
      " [0]\n",
      " [1]\n",
      " [0]\n",
      " [1]\n",
      " [1]\n",
      " [0]\n",
      " [1]\n",
      " [0]\n",
      " [1]\n",
      " [0]\n",
      " [1]\n",
      " [0]\n",
      " [0]\n",
      " [1]\n",
      " [0]\n",
      " [1]\n",
      " [1]\n",
      " [0]\n",
      " [0]\n",
      " [0]\n",
      " [1]\n",
      " [1]\n",
      " [1]\n",
      " [1]\n",
      " [1]\n",
      " [1]\n",
      " [1]\n",
      " [0]\n",
      " [1]\n",
      " [1]\n",
      " [0]\n",
      " [1]\n",
      " [1]]\n",
      "              precision    recall  f1-score   support\n",
      "\n",
      "           0       0.73      0.90      0.81        42\n",
      "           1       0.92      0.76      0.83        58\n",
      "\n",
      "    accuracy                           0.82       100\n",
      "   macro avg       0.82      0.83      0.82       100\n",
      "weighted avg       0.84      0.82      0.82       100\n",
      "\n"
     ]
    }
   ],
   "source": [
    "# Evaluate the model\n",
    "y_pred_prob = model.predict(X_test_trf)\n",
    "y_pred = (y_pred_prob > 0.5).astype(int)\n",
    "\n",
    "print(X_test_trf)\n",
    "print(y_test)\n",
    "print(y_pred)\n",
    "\n",
    "# Print classification report\n",
    "cr = classification_report(y_test, y_pred)\n",
    "print(cr)"
   ]
  },
  {
   "cell_type": "markdown",
   "id": "14f74067",
   "metadata": {
    "papermill": {
     "duration": 0.022876,
     "end_time": "2024-06-12T14:30:35.012545",
     "exception": false,
     "start_time": "2024-06-12T14:30:34.989669",
     "status": "completed"
    },
    "tags": []
   },
   "source": [
    "## Accuracy  Prediction"
   ]
  },
  {
   "cell_type": "code",
   "execution_count": 47,
   "id": "979024c7",
   "metadata": {
    "execution": {
     "iopub.execute_input": "2024-06-12T14:30:35.062517Z",
     "iopub.status.busy": "2024-06-12T14:30:35.062075Z",
     "iopub.status.idle": "2024-06-12T14:30:35.067956Z",
     "shell.execute_reply": "2024-06-12T14:30:35.066541Z"
    },
    "papermill": {
     "duration": 0.03501,
     "end_time": "2024-06-12T14:30:35.070632",
     "exception": false,
     "start_time": "2024-06-12T14:30:35.035622",
     "status": "completed"
    },
    "tags": []
   },
   "outputs": [],
   "source": [
    "from sklearn.metrics import accuracy_score,r2_score"
   ]
  },
  {
   "cell_type": "code",
   "execution_count": 48,
   "id": "25094daf",
   "metadata": {
    "execution": {
     "iopub.execute_input": "2024-06-12T14:30:35.119433Z",
     "iopub.status.busy": "2024-06-12T14:30:35.118943Z",
     "iopub.status.idle": "2024-06-12T14:30:35.128835Z",
     "shell.execute_reply": "2024-06-12T14:30:35.127492Z"
    },
    "papermill": {
     "duration": 0.036956,
     "end_time": "2024-06-12T14:30:35.131549",
     "exception": false,
     "start_time": "2024-06-12T14:30:35.094593",
     "status": "completed"
    },
    "tags": []
   },
   "outputs": [
    {
     "data": {
      "text/plain": [
       "0.82"
      ]
     },
     "execution_count": 48,
     "metadata": {},
     "output_type": "execute_result"
    }
   ],
   "source": [
    "accuracy_score(y_test, y_pred)"
   ]
  },
  {
   "cell_type": "markdown",
   "id": "fdd805d6",
   "metadata": {},
   "source": [
    "# Save Model"
   ]
  },
  {
   "cell_type": "code",
   "execution_count": 49,
   "id": "b3df5b4f",
   "metadata": {},
   "outputs": [],
   "source": [
    "import pickle\n",
    "\n",
    "# Save the scaler and PCA\n",
    "with open('scaler.pkl', 'wb') as f:\n",
    "    pickle.dump(scaler, f)\n",
    "\n",
    "with open('pca.pkl', 'wb') as f:\n",
    "    pickle.dump(pca, f)\n",
    "\n",
    "# Load label encoder\n",
    "with open(\"labelencoder.pkl\", \"wb\") as f:\n",
    "    pickle.dump(le, f)"
   ]
  },
  {
   "cell_type": "code",
   "execution_count": 50,
   "id": "0c137b48",
   "metadata": {
    "papermill": {
     "duration": 0.024195,
     "end_time": "2024-06-12T14:30:35.813689",
     "exception": false,
     "start_time": "2024-06-12T14:30:35.789494",
     "status": "completed"
    },
    "tags": []
   },
   "outputs": [
    {
     "name": "stderr",
     "output_type": "stream",
     "text": [
      "WARNING:absl:You are saving your model as an HDF5 file via `model.save()` or `keras.saving.save_model(model)`. This file format is considered legacy. We recommend using instead the native Keras format, e.g. `model.save('my_model.keras')` or `keras.saving.save_model(model, 'my_model.keras')`. \n"
     ]
    }
   ],
   "source": [
    "model.save(\"model.h5\")"
   ]
  }
 ],
 "metadata": {
  "kaggle": {
   "accelerator": "none",
   "dataSources": [
    {
     "datasetId": 841679,
     "sourceId": 1436563,
     "sourceType": "datasetVersion"
    }
   ],
   "dockerImageVersionId": 30732,
   "isGpuEnabled": false,
   "isInternetEnabled": true,
   "language": "python",
   "sourceType": "notebook"
  },
  "kernelspec": {
   "display_name": "Python 3",
   "language": "python",
   "name": "python3"
  },
  "language_info": {
   "codemirror_mode": {
    "name": "ipython",
    "version": 3
   },
   "file_extension": ".py",
   "mimetype": "text/x-python",
   "name": "python",
   "nbconvert_exporter": "python",
   "pygments_lexer": "ipython3",
   "version": "3.12.3"
  },
  "papermill": {
   "default_parameters": {},
   "duration": 16.169512,
   "end_time": "2024-06-12T14:30:36.560728",
   "environment_variables": {},
   "exception": null,
   "input_path": "__notebook__.ipynb",
   "output_path": "__notebook__.ipynb",
   "parameters": {},
   "start_time": "2024-06-12T14:30:20.391216",
   "version": "2.5.0"
  }
 },
 "nbformat": 4,
 "nbformat_minor": 5
}
